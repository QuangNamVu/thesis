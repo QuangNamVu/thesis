{
 "cells": [
  {
   "cell_type": "code",
   "execution_count": 1,
   "metadata": {},
   "outputs": [],
   "source": [
    "import numpy as np # linear algebra\n",
    "import pandas as pd # data processing, CSV file I/O (e.g. pd.read_csv)\n",
    "import matplotlib.pyplot as plt"
   ]
  },
  {
   "cell_type": "code",
   "execution_count": 2,
   "metadata": {},
   "outputs": [
    {
     "name": "stdout",
     "output_type": "stream",
     "text": [
      "OpenCV is built with OpenMP support. This usually results in poor performance. For details, see https://github.com/tensorpack/benchmarks/blob/master/ImageNet/benchmark-opencv-resize.py\n"
     ]
    }
   ],
   "source": [
    "import numpy as np\n",
    "import os\n",
    "home_path = os.path.expanduser(\"~\") + '/'\n",
    "from info_params import get_default_hparams\n",
    "from utils.load_data import *"
   ]
  },
  {
   "cell_type": "code",
   "execution_count": 3,
   "metadata": {},
   "outputs": [],
   "source": [
    "def get_data(hps):\n",
    "    dfX, df_next_deltaClose = load_data_seq(hps)\n",
    "\n",
    "    segment, next_segment, target_one_hot = segment_seq(dfX, df_next_deltaClose, hps)\n",
    "\n",
    "    train_segment, test_segment, _, _, train_target_one_hot, test_target_one_hot = \\\n",
    "        train_test_split(segment, next_segment, target_one_hot, hps)\n",
    "\n",
    "    return train_segment, test_segment, train_target_one_hot, test_target_one_hot"
   ]
  },
  {
   "cell_type": "code",
   "execution_count": 4,
   "metadata": {
    "scrolled": true
   },
   "outputs": [],
   "source": [
    "hps = get_default_hparams()\n",
    "hps.data_file_name = home_path + \"data/cryptodatadownload/moving_average_240h.csv\"\n",
    "hps.attributes_normalize_mean = ['Close', 'Volume BTC', 'Spread High-Low', 'Spread Close-Open', \"MA_Close\",\"MA_V_BTC\"]\n",
    "hps.is_concat = True\n",
    "hps.Tau = 1\n",
    "hps.T = 120\n",
    "hps.C = 2\n",
    "hps.D = (1+hps.is_concat) * len(hps.attributes_normalize_mean)\n",
    "hps.is_differencing = True\n",
    "hps.lag_time = 1\n",
    "hps.N_train_seq = 10000\n",
    "hps.normalize_data = 'default'\n",
    "hps.normalize_data_idx = True"
   ]
  },
  {
   "cell_type": "code",
   "execution_count": 5,
   "metadata": {},
   "outputs": [
    {
     "name": "stdout",
     "output_type": "stream",
     "text": [
      "Missing Normalization\n"
     ]
    }
   ],
   "source": [
    "X_train, X_test, train_target_one_hot, test_target_one_hot = get_data(hps)\n",
    "X_train = np.reshape(X_train, newshape=[-1, hps.T * hps.D])\n",
    "X_test = np.reshape(X_test, newshape=[-1, hps.T * hps.D])\n",
    "\n",
    "y_train = np.argmax(train_target_one_hot, axis=-1)\n",
    "y_train = np.reshape(y_train, newshape=[-1, hps.Tau])\n",
    "\n",
    "y_test = np.argmax(test_target_one_hot, axis=-1)\n",
    "y_test = np.reshape(y_test, newshape=[-1, hps.Tau])"
   ]
  },
  {
   "cell_type": "code",
   "execution_count": 6,
   "metadata": {},
   "outputs": [],
   "source": [
    "from sklearn.model_selection import train_test_split\n",
    "from sklearn.ensemble import RandomForestClassifier\n",
    "from sklearn.metrics import confusion_matrix\n",
    "from sklearn.metrics import classification_report"
   ]
  },
  {
   "cell_type": "code",
   "execution_count": 7,
   "metadata": {
    "scrolled": true
   },
   "outputs": [],
   "source": [
    "clf = RandomForestClassifier(random_state=2302, n_estimators=128, warm_start = True)"
   ]
  },
  {
   "cell_type": "code",
   "execution_count": 8,
   "metadata": {},
   "outputs": [
    {
     "name": "stderr",
     "output_type": "stream",
     "text": [
      "/home/nam/miniconda3/envs/python3/lib/python3.6/site-packages/ipykernel_launcher.py:1: DataConversionWarning: A column-vector y was passed when a 1d array was expected. Please change the shape of y to (n_samples,), for example using ravel().\n",
      "  \"\"\"Entry point for launching an IPython kernel.\n"
     ]
    },
    {
     "data": {
      "text/plain": [
       "RandomForestClassifier(bootstrap=True, class_weight=None, criterion='gini',\n",
       "            max_depth=None, max_features='auto', max_leaf_nodes=None,\n",
       "            min_impurity_decrease=0.0, min_impurity_split=None,\n",
       "            min_samples_leaf=1, min_samples_split=2,\n",
       "            min_weight_fraction_leaf=0.0, n_estimators=128, n_jobs=None,\n",
       "            oob_score=False, random_state=2302, verbose=0, warm_start=True)"
      ]
     },
     "execution_count": 8,
     "metadata": {},
     "output_type": "execute_result"
    }
   ],
   "source": [
    "clf.fit(X_train, y_train)"
   ]
  },
  {
   "cell_type": "markdown",
   "metadata": {},
   "source": [
    "# Train metrics"
   ]
  },
  {
   "cell_type": "code",
   "execution_count": 14,
   "metadata": {},
   "outputs": [
    {
     "name": "stdout",
     "output_type": "stream",
     "text": [
      "[[4766    0]\n",
      " [   0 5115]]\n",
      "              precision    recall  f1-score   support\n",
      "\n",
      "           0       1.00      1.00      1.00      4766\n",
      "           1       1.00      1.00      1.00      5115\n",
      "\n",
      "   micro avg       1.00      1.00      1.00      9881\n",
      "   macro avg       1.00      1.00      1.00      9881\n",
      "weighted avg       1.00      1.00      1.00      9881\n",
      "\n"
     ]
    }
   ],
   "source": [
    "y_train_hat = clf.predict(X_train)\n",
    "from sklearn.metrics import classification_report, confusion_matrix\n",
    "\n",
    "cm = confusion_matrix(y_train, y_train_hat)\n",
    "rp = classification_report(y_train, y_train_hat)\n",
    "\n",
    "print(cm)\n",
    "print(rp)"
   ]
  },
  {
   "cell_type": "markdown",
   "metadata": {},
   "source": [
    "# Test metrics"
   ]
  },
  {
   "cell_type": "code",
   "execution_count": 15,
   "metadata": {},
   "outputs": [
    {
     "name": "stdout",
     "output_type": "stream",
     "text": [
      "[[ 791 1547]\n",
      " [ 734 1699]]\n",
      "              precision    recall  f1-score   support\n",
      "\n",
      "           0       0.52      0.34      0.41      2338\n",
      "           1       0.52      0.70      0.60      2433\n",
      "\n",
      "   micro avg       0.52      0.52      0.52      4771\n",
      "   macro avg       0.52      0.52      0.50      4771\n",
      "weighted avg       0.52      0.52      0.51      4771\n",
      "\n"
     ]
    }
   ],
   "source": [
    "y_pred = clf.predict(X_test)\n",
    "from sklearn.metrics import classification_report, confusion_matrix\n",
    "\n",
    "cm = confusion_matrix(y_test, y_pred)\n",
    "rp = classification_report(y_test, y_pred)\n",
    "\n",
    "print(cm)\n",
    "print(rp)"
   ]
  },
  {
   "cell_type": "markdown",
   "metadata": {},
   "source": [
    "# Test 1000 first"
   ]
  },
  {
   "cell_type": "code",
   "execution_count": 42,
   "metadata": {},
   "outputs": [
    {
     "name": "stdout",
     "output_type": "stream",
     "text": [
      "[[225 264]\n",
      " [209 302]]\n",
      "              precision    recall  f1-score   support\n",
      "\n",
      "           0       0.52      0.46      0.49       489\n",
      "           1       0.53      0.59      0.56       511\n",
      "\n",
      "   micro avg       0.53      0.53      0.53      1000\n",
      "   macro avg       0.53      0.53      0.52      1000\n",
      "weighted avg       0.53      0.53      0.52      1000\n",
      "\n"
     ]
    }
   ],
   "source": [
    "N = 1000\n",
    "y_pred = clf.predict(X_test[0:N])\n",
    "from sklearn.metrics import classification_report, confusion_matrix\n",
    "\n",
    "cm = confusion_matrix(y_test[0:N], y_pred)\n",
    "rp = classification_report(y_test[0:N], y_pred)\n",
    "\n",
    "print(cm)\n",
    "print(rp)"
   ]
  },
  {
   "cell_type": "markdown",
   "metadata": {},
   "source": [
    "# Save Model and predict:\n",
    "- File model: 1.65Gb"
   ]
  },
  {
   "cell_type": "code",
   "execution_count": 23,
   "metadata": {},
   "outputs": [
    {
     "data": {
      "text/plain": [
       "['checkpoint/Random_Forest_sklearn.joblib']"
      ]
     },
     "execution_count": 23,
     "metadata": {},
     "output_type": "execute_result"
    }
   ],
   "source": [
    "#Saving model\n",
    "from sklearn.externals import joblib\n",
    "joblib.dump(clf, 'checkpoint/Random_Forest_sklearn.joblib')"
   ]
  }
 ],
 "metadata": {
  "kernelspec": {
   "display_name": "Python 3",
   "language": "python",
   "name": "python3"
  },
  "language_info": {
   "codemirror_mode": {
    "name": "ipython",
    "version": 3
   },
   "file_extension": ".py",
   "mimetype": "text/x-python",
   "name": "python",
   "nbconvert_exporter": "python",
   "pygments_lexer": "ipython3",
   "version": "3.6.8"
  }
 },
 "nbformat": 4,
 "nbformat_minor": 2
}
