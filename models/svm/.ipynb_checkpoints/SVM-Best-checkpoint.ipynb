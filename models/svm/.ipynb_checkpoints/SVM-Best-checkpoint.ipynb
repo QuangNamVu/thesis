{
 "cells": [
  {
   "cell_type": "code",
   "execution_count": 1,
   "metadata": {},
   "outputs": [
    {
     "name": "stdout",
     "output_type": "stream",
     "text": [
      "OpenCV is built with OpenMP support. This usually results in poor performance. For details, see https://github.com/tensorpack/benchmarks/blob/master/ImageNet/benchmark-opencv-resize.py\n"
     ]
    }
   ],
   "source": [
    "import numpy as np\n",
    "import os\n",
    "home_path = os.path.expanduser(\"~\") + '/'\n",
    "from info_params import get_default_hparams\n",
    "from utils.load_data import *\n",
    "from sklearn.svm import SVC"
   ]
  },
  {
   "cell_type": "code",
   "execution_count": 2,
   "metadata": {},
   "outputs": [],
   "source": [
    "def get_data(hps):\n",
    "    dfX, df_next_deltaClose = load_data_seq(hps)\n",
    "\n",
    "    segment, next_segment, target_one_hot = segment_seq(dfX, df_next_deltaClose, hps)\n",
    "\n",
    "    train_segment, test_segment, _, _, train_target_one_hot, test_target_one_hot = \\\n",
    "        train_test_split(segment, next_segment, target_one_hot, hps)\n",
    "\n",
    "    return train_segment, test_segment, train_target_one_hot, test_target_one_hot"
   ]
  },
  {
   "cell_type": "code",
   "execution_count": 3,
   "metadata": {},
   "outputs": [],
   "source": [
    "hps = get_default_hparams()\n",
    "hps.data_file_name = home_path + \"Dropbox/thesis/data/processed_data.csv\"\n",
    "# hps.attributes_normalize_mean = ['Open', 'High', 'Low', 'Close','delta_Open','delta_High','delta_Low','delta_Close','delta_Volume BTC', 'Spread High-Low',\\\n",
    "#                                  'Spread Close-Open','delta_Spread High-Low', 'delta_Spread Close-Open', \"MA_Close_240\",\"MA_V_BTC_240\"]\n",
    "\n",
    "# hps.attributes_normalize_mean = ['Close', 'Volume BTC', 'Spread High-Low', 'Spread Close-Open',\\\n",
    "#                                  'delta_Close', 'delta_Volume BTC', 'delta_Spread High-Low', 'delta_Spread Close-Open',\\\n",
    "#                                  'MA_Close_24','MA_V_BTC_24','MA_Close_240','MA_V_BTC_240']\n",
    "hps.attributes_normalize_mean = ['delta_Close', 'delta_Volume BTC', 'Spread High-Low',\\\n",
    "                                 'Spread Close-Open', 'MA_Close_240','MA_V_BTC_240']\n",
    "\n",
    "hps.is_concat = False\n",
    "hps.Tau = 1\n",
    "hps.T = 30\n",
    "hps.C = 2\n",
    "hps.D = (1+hps.is_concat) * len(hps.attributes_normalize_mean)\n",
    "hps.is_differencing = False\n",
    "# hps.lag_time = 1\n",
    "hps.N_train_seq = 10000\n",
    "hps.normalize_data = 'z_score'\n",
    "hps.normalize_data_idx = True"
   ]
  },
  {
   "cell_type": "code",
   "execution_count": 4,
   "metadata": {},
   "outputs": [
    {
     "name": "stdout",
     "output_type": "stream",
     "text": [
      "Normalize: Z score\n"
     ]
    }
   ],
   "source": [
    "X_train, X_test, train_target_one_hot, test_target_one_hot = get_data(hps)\n",
    "X_train = np.reshape(X_train, newshape=[-1, hps.T * hps.D])\n",
    "X_test = np.reshape(X_test, newshape=[-1, hps.T * hps.D])\n",
    "\n",
    "y_train = np.argmax(train_target_one_hot, axis=-1)\n",
    "y_train = np.reshape(y_train, newshape=[-1])\n",
    "\n",
    "y_test = np.argmax(test_target_one_hot, axis=-1)\n",
    "y_test = np.reshape(y_test, newshape=[-1])"
   ]
  },
  {
   "cell_type": "code",
   "execution_count": 5,
   "metadata": {},
   "outputs": [],
   "source": [
    "svclassifier = SVC(C=1.22, kernel='linear')\n",
    "svclassifier.fit(X_train, y_train)\n",
    "y_pred = svclassifier.predict(X_test)"
   ]
  },
  {
   "cell_type": "markdown",
   "metadata": {},
   "source": [
    "# Metrics in train data"
   ]
  },
  {
   "cell_type": "code",
   "execution_count": 6,
   "metadata": {},
   "outputs": [
    {
     "name": "stdout",
     "output_type": "stream",
     "text": [
      "[[1215 3600]\n",
      " [ 787 4369]]\n",
      "              precision    recall  f1-score   support\n",
      "\n",
      "           0       0.61      0.25      0.36      4815\n",
      "           1       0.55      0.85      0.67      5156\n",
      "\n",
      "   micro avg       0.56      0.56      0.56      9971\n",
      "   macro avg       0.58      0.55      0.51      9971\n",
      "weighted avg       0.58      0.56      0.52      9971\n",
      "\n"
     ]
    }
   ],
   "source": [
    "from sklearn.metrics import classification_report, confusion_matrix\n",
    "y_train_hat = svclassifier.predict(X_train)\n",
    "\n",
    "cm = confusion_matrix(y_train, y_train_hat)\n",
    "rp = classification_report(y_train, y_train_hat)\n",
    "\n",
    "print(cm)\n",
    "print(rp)"
   ]
  },
  {
   "cell_type": "markdown",
   "metadata": {},
   "source": [
    "# Metrics in validation data"
   ]
  },
  {
   "cell_type": "code",
   "execution_count": 7,
   "metadata": {},
   "outputs": [
    {
     "name": "stdout",
     "output_type": "stream",
     "text": [
      "[[ 116 2222]\n",
      " [  85 2348]]\n",
      "              precision    recall  f1-score   support\n",
      "\n",
      "           0       0.58      0.05      0.09      2338\n",
      "           1       0.51      0.97      0.67      2433\n",
      "\n",
      "   micro avg       0.52      0.52      0.52      4771\n",
      "   macro avg       0.55      0.51      0.38      4771\n",
      "weighted avg       0.54      0.52      0.39      4771\n",
      "\n"
     ]
    }
   ],
   "source": [
    "y_pred = svclassifier.predict(X_test)\n",
    "cm = confusion_matrix(y_test, y_pred)\n",
    "rp = classification_report(y_test, y_pred)\n",
    "\n",
    "print(cm)\n",
    "print(rp)"
   ]
  },
  {
   "cell_type": "markdown",
   "metadata": {},
   "source": [
    "# Test 1000 first"
   ]
  },
  {
   "cell_type": "code",
   "execution_count": 8,
   "metadata": {},
   "outputs": [
    {
     "name": "stdout",
     "output_type": "stream",
     "text": [
      "[[ 23 466]\n",
      " [ 21 490]]\n",
      "              precision    recall  f1-score   support\n",
      "\n",
      "           0       0.52      0.05      0.09       489\n",
      "           1       0.51      0.96      0.67       511\n",
      "\n",
      "   micro avg       0.51      0.51      0.51      1000\n",
      "   macro avg       0.52      0.50      0.38      1000\n",
      "weighted avg       0.52      0.51      0.38      1000\n",
      "\n"
     ]
    }
   ],
   "source": [
    "N = 1000\n",
    "y_pred = svclassifier.predict(X_test[0:N])\n",
    "from sklearn.metrics import classification_report, confusion_matrix\n",
    "\n",
    "cm = confusion_matrix(y_test[0:N], y_pred)\n",
    "rp = classification_report(y_test[0:N], y_pred)\n",
    "\n",
    "print(cm)\n",
    "print(rp)"
   ]
  },
  {
   "cell_type": "markdown",
   "metadata": {},
   "source": [
    "# Saving checkpoint"
   ]
  },
  {
   "cell_type": "code",
   "execution_count": 9,
   "metadata": {},
   "outputs": [],
   "source": [
    "import pickle\n",
    "f = os.getcwd() + \"/checkpoint/svm-soft-margin-best.joblib\"\n",
    "my_file = open(f, 'wb')\n",
    "my_file = pickle.dump(svclassifier, my_file)"
   ]
  }
 ],
 "metadata": {
  "kernelspec": {
   "display_name": "Python 3",
   "language": "python",
   "name": "python3"
  },
  "language_info": {
   "codemirror_mode": {
    "name": "ipython",
    "version": 3
   },
   "file_extension": ".py",
   "mimetype": "text/x-python",
   "name": "python",
   "nbconvert_exporter": "python",
   "pygments_lexer": "ipython3",
   "version": "3.6.8"
  }
 },
 "nbformat": 4,
 "nbformat_minor": 2
}
