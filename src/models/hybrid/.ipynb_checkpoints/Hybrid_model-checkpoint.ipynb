{
 "cells": [
  {
   "cell_type": "code",
   "execution_count": 1,
   "metadata": {},
   "outputs": [],
   "source": [
    "import numpy as np\n",
    "import os\n",
    "import pandas as pd\n",
    "home_path = os.path.expanduser(\"~\") + '/'"
   ]
  },
  {
   "cell_type": "code",
   "execution_count": 2,
   "metadata": {},
   "outputs": [],
   "source": [
    "data_file_name = home_path + \"data/ccxt/preprocessing_data/BTC_USDT_binance_1h.csv\""
   ]
  },
  {
   "cell_type": "code",
   "execution_count": 3,
   "metadata": {},
   "outputs": [],
   "source": [
    "df = pd.read_csv(data_file_name)"
   ]
  },
  {
   "cell_type": "markdown",
   "metadata": {},
   "source": [
    "# SVM"
   ]
  },
  {
   "cell_type": "code",
   "execution_count": 4,
   "metadata": {},
   "outputs": [],
   "source": [
    "# cols = ['Open', 'buy_amount_avg', 'price_avg', 'cost_avg', '_1d_Open', '_1d_Close', '_1d_MA_Close_24', '_1d_Spread_Open_Close', '_1d_Spread_High_Low']\n",
    "cols = [\n",
    "    'Open',\n",
    "    'Volume',\n",
    "    'N_buy',\n",
    "    'N_sell',\n",
    "    'buy_amount_avg',\n",
    "    'buy_amount_std',\n",
    "    'sell_amount_std',\n",
    "    'price_avg',\n",
    "    'price_std',\n",
    "    'cost_avg',\n",
    "    'cost_std',\n",
    "    'MA_Close_24',\n",
    "    'MA_Close_240',\n",
    "    'Spread_Open_Close',\n",
    "    'Spread_High_Low',\n",
    "    '_1d_Open',\n",
    "    '_1d_High',\n",
    "    '_1d_Low',\n",
    "    '_1d_Close',\n",
    "    '_1d_Volume',\n",
    "    '_1d_N_buy',\n",
    "    '_1d_N_sell',\n",
    "    '_1d_buy_amount_avg',\n",
    "    '_1d_buy_amount_std',\n",
    "    '_1d_sell_amount_std',\n",
    "    '_1d_price_avg',\n",
    "    '_1d_cost_avg',\n",
    "    '_1d_cost_std',\n",
    "    '_1d_MA_Close_24',\n",
    "    '_1d_MA_Close_240',\n",
    "    '_1d_Spread_Open_Close'\n",
    "]"
   ]
  },
  {
   "cell_type": "code",
   "execution_count": 5,
   "metadata": {},
   "outputs": [],
   "source": [
    "X = df[cols].values\n",
    "y = df['trend'].values\n",
    "X_train = X[:-2160]\n",
    "y_train = y[:-2160]\n",
    "X_val = X[-2160:]\n",
    "y_val = y[-2160:]"
   ]
  },
  {
   "cell_type": "code",
   "execution_count": 6,
   "metadata": {},
   "outputs": [],
   "source": [
    "from sklearn.preprocessing import StandardScaler\n",
    "scaler = StandardScaler()\n",
    "scaler.fit(X_train)\n",
    "X_train = scaler.transform(X_train)\n",
    "X_val = scaler.transform(X_val)"
   ]
  },
  {
   "cell_type": "code",
   "execution_count": 7,
   "metadata": {},
   "outputs": [],
   "source": [
    "from sklearn.svm import SVC\n",
    "from sklearn.metrics import confusion_matrix, classification_report"
   ]
  },
  {
   "cell_type": "code",
   "execution_count": 8,
   "metadata": {},
   "outputs": [
    {
     "data": {
      "text/plain": [
       "SVC(C=1.0, cache_size=200, class_weight=None, coef0=0.0,\n",
       "  decision_function_shape='ovr', degree=3, gamma='auto_deprecated',\n",
       "  kernel='rbf', max_iter=-1, probability=False, random_state=None,\n",
       "  shrinking=True, tol=0.001, verbose=False)"
      ]
     },
     "execution_count": 8,
     "metadata": {},
     "output_type": "execute_result"
    }
   ],
   "source": [
    "# clf = SVC(kernel='linear')\n",
    "clf = SVC(kernel='rbf')\n",
    "clf.fit(X_train, y_train)"
   ]
  },
  {
   "cell_type": "code",
   "execution_count": 9,
   "metadata": {},
   "outputs": [],
   "source": [
    "y_train_SVM_hat = clf.predict(X_train)\n",
    "y_SVM_pred = clf.predict(X_val)"
   ]
  },
  {
   "cell_type": "markdown",
   "metadata": {},
   "source": [
    "# Logistic Regression"
   ]
  },
  {
   "cell_type": "code",
   "execution_count": 10,
   "metadata": {},
   "outputs": [],
   "source": [
    "# cols = [\n",
    "#     'Open',\n",
    "#     'Volume',\n",
    "#     'N_buy',\n",
    "#     'N_sell',\n",
    "#     'buy_amount_avg',\n",
    "#     'buy_amount_std',\n",
    "#     'sell_amount_std',\n",
    "#     'price_avg',\n",
    "#     'price_std',\n",
    "#     'cost_avg',\n",
    "#     'cost_std',\n",
    "#     'MA_Close_24',\n",
    "#     'MA_Close_240',\n",
    "#     'Spread_Open_Close',\n",
    "#     'Spread_High_Low',\n",
    "#     '_1d_Open',\n",
    "#     '_1d_High',\n",
    "#     '_1d_Low',\n",
    "#     '_1d_Close',\n",
    "#     '_1d_Volume',\n",
    "#     '_1d_N_buy',\n",
    "#     '_1d_N_sell',\n",
    "#     '_1d_buy_amount_avg',\n",
    "#     '_1d_buy_amount_std',\n",
    "#     '_1d_sell_amount_std',\n",
    "#     '_1d_price_avg',\n",
    "#     '_1d_cost_avg',\n",
    "#     '_1d_cost_std',\n",
    "#     '_1d_MA_Close_24',\n",
    "#     '_1d_MA_Close_240',\n",
    "#     '_1d_Spread_Open_Close'\n",
    "# ]\n",
    "X = df[cols].values\n",
    "y = df['trend'].values\n",
    "X_train = X[:-2160]\n",
    "y_train = y[:-2160]\n",
    "X_val = X[-2160:]\n",
    "y_val = y[-2160:]"
   ]
  },
  {
   "cell_type": "code",
   "execution_count": 11,
   "metadata": {},
   "outputs": [
    {
     "name": "stderr",
     "output_type": "stream",
     "text": [
      "/home/nam/miniconda3/envs/python3/lib/python3.6/site-packages/sklearn/linear_model/logistic.py:433: FutureWarning: Default solver will be changed to 'lbfgs' in 0.22. Specify a solver to silence this warning.\n",
      "  FutureWarning)\n"
     ]
    }
   ],
   "source": [
    "from sklearn.linear_model import LogisticRegression\n",
    "clf = LogisticRegression()\n",
    "clf.fit(X_train, y_train)\n",
    "\n",
    "y_train_LR_hat = clf.predict(X_train)\n",
    "y_LR_pred = clf.predict(X_val)"
   ]
  },
  {
   "cell_type": "markdown",
   "metadata": {},
   "source": [
    "# Random Forest"
   ]
  },
  {
   "cell_type": "code",
   "execution_count": 12,
   "metadata": {},
   "outputs": [],
   "source": [
    "from sklearn.ensemble import RandomForestClassifier\n",
    "\n",
    "clf = RandomForestClassifier(random_state=2302, n_estimators=127) #, warm_start = True)\n",
    "clf.fit(X_train, y_train)\n",
    "\n",
    "y_train_RF_hat = clf.predict(X_train)\n",
    "y_RF_pred = clf.predict(X_val)"
   ]
  },
  {
   "cell_type": "code",
   "execution_count": 13,
   "metadata": {},
   "outputs": [],
   "source": [
    "import numpy as np"
   ]
  },
  {
   "cell_type": "code",
   "execution_count": 14,
   "metadata": {},
   "outputs": [],
   "source": [
    "y_train_hat = sum([y_train_SVM_hat, y_train_LR_hat, y_train_RF_hat])\n",
    "y_train_hat = [1 if x > 1 else 0 for x in y_train_hat]"
   ]
  },
  {
   "cell_type": "code",
   "execution_count": 15,
   "metadata": {},
   "outputs": [
    {
     "name": "stdout",
     "output_type": "stream",
     "text": [
      "[[2652 4751]\n",
      " [ 747 7193]]\n",
      "              precision    recall  f1-score   support\n",
      "\n",
      "           0       0.78      0.36      0.49      7403\n",
      "           1       0.60      0.91      0.72      7940\n",
      "\n",
      "   micro avg       0.64      0.64      0.64     15343\n",
      "   macro avg       0.69      0.63      0.61     15343\n",
      "weighted avg       0.69      0.64      0.61     15343\n",
      "\n",
      "0.6416606921723261\n"
     ]
    }
   ],
   "source": [
    "from sklearn.metrics import classification_report, confusion_matrix, accuracy_score\n",
    "\n",
    "cm = confusion_matrix(y_train, y_train_hat)\n",
    "rp = classification_report(y_train, y_train_hat)\n",
    "score = accuracy_score(y_train, y_train_hat)\n",
    "\n",
    "print(cm)\n",
    "print(rp)\n",
    "print(score)"
   ]
  },
  {
   "cell_type": "code",
   "execution_count": 16,
   "metadata": {},
   "outputs": [],
   "source": [
    "y_pred = sum([y_SVM_pred, y_LR_pred, y_RF_pred])\n",
    "y_pred = [1 if x > 1 else 0 for x in y_train_hat]"
   ]
  },
  {
   "cell_type": "code",
   "execution_count": 17,
   "metadata": {},
   "outputs": [
    {
     "name": "stdout",
     "output_type": "stream",
     "text": [
      "[[480 569]\n",
      " [470 641]]\n",
      "              precision    recall  f1-score   support\n",
      "\n",
      "           0       0.51      0.46      0.48      1049\n",
      "           1       0.53      0.58      0.55      1111\n",
      "\n",
      "   micro avg       0.52      0.52      0.52      2160\n",
      "   macro avg       0.52      0.52      0.52      2160\n",
      "weighted avg       0.52      0.52      0.52      2160\n",
      "\n",
      "0.5189814814814815\n"
     ]
    }
   ],
   "source": [
    "y_pred = clf.predict(X_val)\n",
    "cm = confusion_matrix(y_val, y_pred)\n",
    "rp = classification_report(y_val, y_pred)\n",
    "score = accuracy_score(y_val, y_pred)\n",
    "\n",
    "print(cm)\n",
    "print(rp)\n",
    "print(score)"
   ]
  }
 ],
 "metadata": {
  "kernelspec": {
   "display_name": "Python 3",
   "language": "python",
   "name": "python3"
  },
  "language_info": {
   "codemirror_mode": {
    "name": "ipython",
    "version": 3
   },
   "file_extension": ".py",
   "mimetype": "text/x-python",
   "name": "python",
   "nbconvert_exporter": "python",
   "pygments_lexer": "ipython3",
   "version": "3.6.8"
  }
 },
 "nbformat": 4,
 "nbformat_minor": 2
}
