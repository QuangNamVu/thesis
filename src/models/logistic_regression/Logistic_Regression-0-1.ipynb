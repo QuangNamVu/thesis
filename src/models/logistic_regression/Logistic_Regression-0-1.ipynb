{
 "cells": [
  {
   "cell_type": "code",
   "execution_count": 1,
   "metadata": {},
   "outputs": [
    {
     "name": "stdout",
     "output_type": "stream",
     "text": [
      "OpenCV is built with OpenMP support. This usually results in poor performance. For details, see https://github.com/tensorpack/benchmarks/blob/master/ImageNet/benchmark-opencv-resize.py\n"
     ]
    }
   ],
   "source": [
    "import numpy as np\n",
    "import os\n",
    "home_path = os.path.expanduser(\"~\") + '/'\n",
    "from utils.load_data import *\n",
    "from utils.info_params import *"
   ]
  },
  {
   "cell_type": "code",
   "execution_count": 2,
   "metadata": {},
   "outputs": [],
   "source": [
    "def get_data(hps):\n",
    "    dfX, df_next_deltaClose = load_data_seq(hps)\n",
    "\n",
    "    segment, next_segment, target_one_hot = segment_seq(dfX, df_next_deltaClose, hps)\n",
    "\n",
    "    train_segment, test_segment, _, _, train_target_one_hot, test_target_one_hot = \\\n",
    "        train_test_split(segment, next_segment, target_one_hot, hps)\n",
    "\n",
    "    return train_segment, test_segment, train_target_one_hot, test_target_one_hot"
   ]
  },
  {
   "cell_type": "code",
   "execution_count": 3,
   "metadata": {},
   "outputs": [],
   "source": [
    "hps = get_default_hparams()\n",
    "hps.data_file_name = home_path + \"data/ccxt/extra/BTC_USDT_binance_1h.csv\"\n",
    "\n",
    "hps.attributes_normalize_mean = ['Open','High','Low','Close','Volume','N_buy','buy_amount_avg','sell_amount_avg','buy_amount_std','sell_amount_std','price_avg','cost_avg','cost_std','Spread_Open_Close','Spread_High_Low','MA_Close_24','MA_Close_240']\n",
    "\n",
    "\n",
    "hps.is_concat = False\n",
    "hps.Tau = 1\n",
    "hps.T = 1\n",
    "hps.C = 2\n",
    "hps.D = (1+hps.is_concat) * len(hps.attributes_normalize_mean)\n",
    "hps.is_differencing = True\n",
    "hps.lag_time = 1\n",
    "hps.N_train_seq = 15340 + hps.T - 1\n",
    "hps.normalize_data = 'min_max'\n",
    "hps.normalize_data_idx = True"
   ]
  },
  {
   "cell_type": "code",
   "execution_count": 4,
   "metadata": {},
   "outputs": [
    {
     "name": "stdout",
     "output_type": "stream",
     "text": [
      "Normalize: Min Max\n"
     ]
    }
   ],
   "source": [
    "X_train, X_test, train_target_one_hot, test_target_one_hot = get_data(hps)\n",
    "X_train = np.reshape(X_train, newshape=[-1, hps.T * hps.D])\n",
    "X_test = np.reshape(X_test, newshape=[-1, hps.T * hps.D])\n",
    "\n",
    "y_train = np.argmax(train_target_one_hot, axis=-1)\n",
    "y_train = np.reshape(y_train, newshape=[-1, hps.Tau])\n",
    "\n",
    "y_test = np.argmax(test_target_one_hot, axis=-1)\n",
    "y_test = np.reshape(y_test, newshape=[-1, hps.Tau])"
   ]
  },
  {
   "cell_type": "code",
   "execution_count": 5,
   "metadata": {},
   "outputs": [],
   "source": [
    "from sklearn.linear_model import LogisticRegression\n",
    "from sklearn.metrics import classification_report, confusion_matrix"
   ]
  },
  {
   "cell_type": "code",
   "execution_count": 6,
   "metadata": {},
   "outputs": [],
   "source": [
    "clf = LogisticRegression()"
   ]
  },
  {
   "cell_type": "code",
   "execution_count": 7,
   "metadata": {},
   "outputs": [
    {
     "name": "stderr",
     "output_type": "stream",
     "text": [
      "/home/nam/miniconda3/envs/python3/lib/python3.6/site-packages/sklearn/linear_model/logistic.py:433: FutureWarning: Default solver will be changed to 'lbfgs' in 0.22. Specify a solver to silence this warning.\n",
      "  FutureWarning)\n",
      "/home/nam/miniconda3/envs/python3/lib/python3.6/site-packages/sklearn/utils/validation.py:761: DataConversionWarning: A column-vector y was passed when a 1d array was expected. Please change the shape of y to (n_samples, ), for example using ravel().\n",
      "  y = column_or_1d(y, warn=True)\n"
     ]
    },
    {
     "data": {
      "text/plain": [
       "LogisticRegression(C=1.0, class_weight=None, dual=False, fit_intercept=True,\n",
       "          intercept_scaling=1, max_iter=100, multi_class='warn',\n",
       "          n_jobs=None, penalty='l2', random_state=None, solver='warn',\n",
       "          tol=0.0001, verbose=0, warm_start=False)"
      ]
     },
     "execution_count": 7,
     "metadata": {},
     "output_type": "execute_result"
    }
   ],
   "source": [
    "clf.fit(X_train, y_train)"
   ]
  },
  {
   "cell_type": "code",
   "execution_count": 8,
   "metadata": {},
   "outputs": [
    {
     "name": "stdout",
     "output_type": "stream",
     "text": [
      "[[1338 6064]\n",
      " [ 991 6947]]\n",
      "              precision    recall  f1-score   support\n",
      "\n",
      "           0       0.57      0.18      0.27      7402\n",
      "           1       0.53      0.88      0.66      7938\n",
      "\n",
      "   micro avg       0.54      0.54      0.54     15340\n",
      "   macro avg       0.55      0.53      0.47     15340\n",
      "weighted avg       0.55      0.54      0.48     15340\n",
      "\n",
      "0.5400912646675359\n"
     ]
    }
   ],
   "source": [
    "from sklearn.metrics import classification_report, confusion_matrix, accuracy_score\n",
    "y_train_hat = clf.predict(X_train)\n",
    "cm = confusion_matrix(y_train, y_train_hat)\n",
    "rp = classification_report(y_train, y_train_hat)\n",
    "score = accuracy_score(y_train, y_train_hat)\n",
    "\n",
    "print(cm)\n",
    "print(rp)\n",
    "print(score)"
   ]
  },
  {
   "cell_type": "code",
   "execution_count": 9,
   "metadata": {},
   "outputs": [
    {
     "name": "stdout",
     "output_type": "stream",
     "text": [
      "[[258 790]\n",
      " [198 914]]\n",
      "              precision    recall  f1-score   support\n",
      "\n",
      "           0       0.57      0.25      0.34      1048\n",
      "           1       0.54      0.82      0.65      1112\n",
      "\n",
      "   micro avg       0.54      0.54      0.54      2160\n",
      "   macro avg       0.55      0.53      0.50      2160\n",
      "weighted avg       0.55      0.54      0.50      2160\n",
      "\n",
      "0.5425925925925926\n"
     ]
    }
   ],
   "source": [
    "y_pred = clf.predict(X_test)\n",
    "cm = confusion_matrix(y_test, y_pred)\n",
    "rp = classification_report(y_test, y_pred)\n",
    "score = accuracy_score(y_test, y_pred)\n",
    "\n",
    "print(cm)\n",
    "print(rp)\n",
    "print(score)"
   ]
  }
 ],
 "metadata": {
  "kernelspec": {
   "display_name": "Python 3",
   "language": "python",
   "name": "python3"
  },
  "language_info": {
   "codemirror_mode": {
    "name": "ipython",
    "version": 3
   },
   "file_extension": ".py",
   "mimetype": "text/x-python",
   "name": "python",
   "nbconvert_exporter": "python",
   "pygments_lexer": "ipython3",
   "version": "3.6.8"
  }
 },
 "nbformat": 4,
 "nbformat_minor": 2
}
