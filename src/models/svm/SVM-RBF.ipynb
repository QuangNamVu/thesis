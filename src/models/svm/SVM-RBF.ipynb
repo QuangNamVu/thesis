{
 "cells": [
  {
   "cell_type": "code",
   "execution_count": 1,
   "metadata": {},
   "outputs": [],
   "source": [
    "import numpy as np\n",
    "import os\n",
    "import pandas as pd\n",
    "home_path = os.path.expanduser(\"~\") + '/'"
   ]
  },
  {
   "cell_type": "code",
   "execution_count": 2,
   "metadata": {},
   "outputs": [],
   "source": [
    "data_file_name = home_path + \"data/ccxt/preprocessing_data/BTC_USDT_binance_1h.csv\"\n",
    "normalize_data = 'z_score'\n",
    "normalize_data_idx = True"
   ]
  },
  {
   "cell_type": "code",
   "execution_count": 3,
   "metadata": {
    "scrolled": true
   },
   "outputs": [],
   "source": [
    "df = pd.read_csv(data_file_name)"
   ]
  },
  {
   "cell_type": "code",
   "execution_count": 4,
   "metadata": {
    "scrolled": true
   },
   "outputs": [],
   "source": [
    "cols = [\n",
    "        \"Spread_Open_Close\",\n",
    "        \"_1d_Close\",\n",
    "        \"_1d_Open\",\n",
    "        \"_1d_High\",\n",
    "        \"_1d_MA_Close_24\",\n",
    "        \"_1d_price_avg\",\n",
    "        \"_1d_Low\",\n",
    "        \"_1d_sell_amount_std\",\n",
    "        \"buy_amount_std\",\n",
    "        \"_1d_buy_amount_std\",\n",
    "        \"_1d_Spread_Open_Close\",\n",
    "        \"_1d_N_sell\",\n",
    "        \"_1d_buy_amount_avg\",\n",
    "        \"buy_amount_avg\",\n",
    "        \"_1d_price_std\",\n",
    "        \"_1d_cost_avg\",\n",
    "        \"price_std\",\n",
    "        \"sell_amount_std\",\n",
    "        \"_1d_MA_Close_240\",\n",
    "        \"cost_avg\",\n",
    "        \"_1d_Volume\",\n",
    "        \"cost_std\",\n",
    "        \"Spread_High_Low\",\n",
    "        \"_1d_cost_std\",\n",
    "        \"_1d_Spread_High_Low\",\n",
    "        \"_1d_N_buy\",\n",
    "        \"N_buy\",\n",
    "        \"Volume\",\n",
    "        \"N_sell\",\n",
    "        \"MA_Close_240\",\n",
    "#         \"High\",\n",
    "#         \"Low\",\n",
    "#         \"MA_Close_24\",\n",
    "#         \"Close\",\n",
    "#         \"price_avg\",\n",
    "#         \"Open\",\n",
    "        ]"
   ]
  },
  {
   "cell_type": "code",
   "execution_count": 5,
   "metadata": {},
   "outputs": [],
   "source": [
    "X = df[cols].values\n",
    "y = df['trend'].values\n",
    "\n",
    "N = 2160\n",
    "X_train = X[:-N]\n",
    "y_train = y[:-N]\n",
    "X_val = X[-N:]\n",
    "y_val = y[-N:]\n"
   ]
  },
  {
   "cell_type": "code",
   "execution_count": 6,
   "metadata": {},
   "outputs": [],
   "source": [
    "from sklearn.preprocessing import StandardScaler\n",
    "scaler = StandardScaler()\n",
    "scaler.fit(X_train)\n",
    "X_train = scaler.transform(X_train)\n",
    "X_val = scaler.transform(X_val)"
   ]
  },
  {
   "cell_type": "code",
   "execution_count": 7,
   "metadata": {
    "scrolled": true
   },
   "outputs": [
    {
     "data": {
      "text/plain": [
       "SVC(C=1.0, cache_size=200, class_weight=None, coef0=0.0,\n",
       "  decision_function_shape='ovr', degree=3, gamma='auto_deprecated',\n",
       "  kernel='rbf', max_iter=-1, probability=False, random_state=None,\n",
       "  shrinking=True, tol=0.001, verbose=False)"
      ]
     },
     "execution_count": 7,
     "metadata": {},
     "output_type": "execute_result"
    }
   ],
   "source": [
    "from sklearn.svm import SVC\n",
    "\n",
    "clf = SVC(kernel='rbf')\n",
    "clf.fit(X_train, y_train)"
   ]
  },
  {
   "cell_type": "code",
   "execution_count": 8,
   "metadata": {},
   "outputs": [
    {
     "name": "stdout",
     "output_type": "stream",
     "text": [
      "[[3203 4200]\n",
      " [1718 6222]]\n",
      "              precision    recall  f1-score   support\n",
      "\n",
      "           0       0.65      0.43      0.52      7403\n",
      "           1       0.60      0.78      0.68      7940\n",
      "\n",
      "   micro avg       0.61      0.61      0.61     15343\n",
      "   macro avg       0.62      0.61      0.60     15343\n",
      "weighted avg       0.62      0.61      0.60     15343\n",
      "\n",
      "0.6142866453757414\n"
     ]
    }
   ],
   "source": [
    "from sklearn.metrics import classification_report, confusion_matrix, accuracy_score\n",
    "y_train_hat = clf.predict(X_train)\n",
    "cm = confusion_matrix(y_train, y_train_hat)\n",
    "rp = classification_report(y_train, y_train_hat)\n",
    "score = accuracy_score(y_train, y_train_hat)\n",
    "\n",
    "print(cm)\n",
    "print(rp)\n",
    "print(score)"
   ]
  },
  {
   "cell_type": "code",
   "execution_count": 9,
   "metadata": {},
   "outputs": [
    {
     "name": "stdout",
     "output_type": "stream",
     "text": [
      "[[547 502]\n",
      " [483 628]]\n",
      "              precision    recall  f1-score   support\n",
      "\n",
      "           0       0.53      0.52      0.53      1049\n",
      "           1       0.56      0.57      0.56      1111\n",
      "\n",
      "   micro avg       0.54      0.54      0.54      2160\n",
      "   macro avg       0.54      0.54      0.54      2160\n",
      "weighted avg       0.54      0.54      0.54      2160\n",
      "\n",
      "0.5439814814814815\n"
     ]
    }
   ],
   "source": [
    "y_pred = clf.predict(X_val)\n",
    "cm = confusion_matrix(y_val, y_pred)\n",
    "rp = classification_report(y_val, y_pred)\n",
    "score = accuracy_score(y_val, y_pred)\n",
    "\n",
    "print(cm)\n",
    "print(rp)\n",
    "print(score)"
   ]
  },
  {
   "cell_type": "markdown",
   "metadata": {},
   "source": [
    "# Save and Load Model:\n"
   ]
  },
  {
   "cell_type": "code",
   "execution_count": 10,
   "metadata": {},
   "outputs": [],
   "source": [
    "# #Saving model\n",
    "# from sklearn.externals import joblib\n",
    "# joblib.dump(clf, 'checkpoint/SVM_rbf.joblib')"
   ]
  },
  {
   "cell_type": "code",
   "execution_count": 11,
   "metadata": {},
   "outputs": [],
   "source": [
    "# predicted = clf.predict(X_test[picked_feature])\n",
    "# print(classification_report(y_test, predicted))"
   ]
  }
 ],
 "metadata": {
  "kernelspec": {
   "display_name": "Python 3",
   "language": "python",
   "name": "python3"
  },
  "language_info": {
   "codemirror_mode": {
    "name": "ipython",
    "version": 3
   },
   "file_extension": ".py",
   "mimetype": "text/x-python",
   "name": "python",
   "nbconvert_exporter": "python",
   "pygments_lexer": "ipython3",
   "version": "3.6.8"
  }
 },
 "nbformat": 4,
 "nbformat_minor": 2
}
