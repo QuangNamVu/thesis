{
 "cells": [
  {
   "cell_type": "code",
   "execution_count": 1,
   "metadata": {},
   "outputs": [],
   "source": [
    "import os\n",
    "import datetime\n",
    "import pandas as pd"
   ]
  },
  {
   "cell_type": "code",
   "execution_count": 2,
   "metadata": {},
   "outputs": [],
   "source": [
    "home_path = os.path.expanduser(\"~\")\n",
    "\n",
    "\n",
    "input_file_name = home_path + \"/data/ccxt/preprocessing_data/BTC_USDT_binance_1h.csv\"\n",
    "\n",
    "attributes_normalize_mean = ['Open','High','Low','Close','Volume','N_buy','buy_amount_avg','sell_amount_avg','buy_amount_std','sell_amount_std','price_avg','cost_avg','cost_std','Spread_Open_Close','Spread_High_Low','MA_Close_24','MA_Close_240']"
   ]
  },
  {
   "cell_type": "code",
   "execution_count": 15,
   "metadata": {
    "scrolled": true
   },
   "outputs": [],
   "source": [
    "df = pd.read_csv(input_file_name)"
   ]
  },
  {
   "cell_type": "code",
   "execution_count": null,
   "metadata": {},
   "outputs": [],
   "source": [
    "df[['Timestamp','Close','_1d_Volume','Spread_High_Low','MA_Close_24']]"
   ]
  },
  {
   "cell_type": "code",
   "execution_count": 9,
   "metadata": {},
   "outputs": [
    {
     "data": {
      "text/plain": [
       "Index(['Unnamed: 0', 'Timestamp', 'Open', 'High', 'Low', 'Close', 'Volume',\n",
       "       'N_buy', 'N_sell', 'buy_amount_avg', 'buy_amount_std',\n",
       "       'sell_amount_std', 'price_avg', 'price_std', 'cost_avg', 'cost_std',\n",
       "       'MA_Close_24', 'MA_Close_240', 'Spread_Open_Close', 'Spread_High_Low',\n",
       "       '_1d_Open', '_1d_High', '_1d_Low', '_1d_Close', '_1d_Volume',\n",
       "       '_1d_N_buy', '_1d_N_sell', '_1d_buy_amount_avg', '_1d_buy_amount_std',\n",
       "       '_1d_sell_amount_std', '_1d_price_avg', '_1d_price_std', '_1d_cost_avg',\n",
       "       '_1d_cost_std', '_1d_MA_Close_24', '_1d_MA_Close_240',\n",
       "       '_1d_Spread_Open_Close', '_1d_Spread_High_Low', '1d_target', 'trend'],\n",
       "      dtype='object')"
      ]
     },
     "execution_count": 9,
     "metadata": {},
     "output_type": "execute_result"
    }
   ],
   "source": [
    "df.columns"
   ]
  },
  {
   "cell_type": "code",
   "execution_count": 9,
   "metadata": {},
   "outputs": [
    {
     "name": "stdout",
     "output_type": "stream",
     "text": [
      "/home/nam/data/ccxt/preprocessing_data/BTC_USDT_binance_1h.csv\n"
     ]
    }
   ],
   "source": [
    "df.to_csv(output_file_name)\n",
    "print(output_file_name)"
   ]
  }
 ],
 "metadata": {
  "kernelspec": {
   "display_name": "Python 3",
   "language": "python",
   "name": "python3"
  },
  "language_info": {
   "codemirror_mode": {
    "name": "ipython",
    "version": 3
   },
   "file_extension": ".py",
   "mimetype": "text/x-python",
   "name": "python",
   "nbconvert_exporter": "python",
   "pygments_lexer": "ipython3",
   "version": "3.6.8"
  }
 },
 "nbformat": 4,
 "nbformat_minor": 2
}
