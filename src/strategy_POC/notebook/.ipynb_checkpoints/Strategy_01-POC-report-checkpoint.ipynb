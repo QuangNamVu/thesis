{
 "cells": [
  {
   "cell_type": "code",
   "execution_count": 1,
   "metadata": {},
   "outputs": [],
   "source": [
    "import matplotlib.pyplot as plt\n",
    "import numpy as np\n",
    "from decimal import Decimal"
   ]
  },
  {
   "cell_type": "code",
   "execution_count": 2,
   "metadata": {},
   "outputs": [],
   "source": [
    "# BNB fund amount\n",
    "A_FUND_AMOUNT = Decimal('1.0')\n",
    "# BTC fund amount\n",
    "B_FUND_AMOUNT = Decimal('0.0')\n",
    "\n",
    "# fee in real:\n",
    "FREE_REAL = Decimal('.01')\n",
    "\n",
    "A_LIMIT = Decimal('.01')\n",
    "B_LIMIT = Decimal('.0001')\n",
    "\n",
    "A_FUND_AMOUNT_LIST = []\n",
    "B_FUND_AMOUNT_LIST = []\n",
    "PRICE_LIST = []"
   ]
  },
  {
   "cell_type": "code",
   "execution_count": 3,
   "metadata": {},
   "outputs": [],
   "source": [
    "def buy():\n",
    "    global PRICE, A_FUND_AMOUNT, B_FUND_AMOUNT, FREE_REAL\n",
    "    # buy A sell B:\n",
    "#     print(\"buy with price {}\".format(PRICE))\n",
    "    sell_amount_B = B_FUND_AMOUNT - (B_FUND_AMOUNT % B_LIMIT)\n",
    "    \n",
    "    cost = (sell_amount_B * FREE_REAL) / PRICE\n",
    "\n",
    "    B_FUND_AMOUNT -= sell_amount_B\n",
    "    A_FUND_AMOUNT += (sell_amount_B / PRICE - cost)"
   ]
  },
  {
   "cell_type": "code",
   "execution_count": 4,
   "metadata": {},
   "outputs": [],
   "source": [
    "def sell():\n",
    "    global PRICE, A_FUND_AMOUNT, B_FUND_AMOUNT, FREE_REAL\n",
    "    # buy B sell A:\n",
    "#     print(\"sell with price {}\".format(PRICE))\n",
    "    sell_amount_A = A_FUND_AMOUNT - (A_FUND_AMOUNT % A_LIMIT)\n",
    "\n",
    "    cost = sell_amount_A * FREE_REAL * PRICE\n",
    "\n",
    "    A_FUND_AMOUNT -= sell_amount_A\n",
    "    B_FUND_AMOUNT += (sell_amount_A * PRICE - cost)"
   ]
  },
  {
   "cell_type": "markdown",
   "metadata": {},
   "source": [
    "# Reduce threshold fee into .1%"
   ]
  },
  {
   "cell_type": "code",
   "execution_count": 5,
   "metadata": {},
   "outputs": [],
   "source": [
    "test_file = '/home/nam/data/ccxt/extra/BTC_USDT_binance_1h.csv'"
   ]
  },
  {
   "cell_type": "code",
   "execution_count": 6,
   "metadata": {},
   "outputs": [],
   "source": [
    "import pandas as pd\n",
    "df = pd.read_csv(test_file)\n",
    "Close_lst = df.Close.values"
   ]
  },
  {
   "cell_type": "code",
   "execution_count": 7,
   "metadata": {},
   "outputs": [
    {
     "data": {
      "image/png": "[encoded data removed]",
      "text/plain": [
       "<Figure size 432x288 with 1 Axes>"
      ]
     },
     "metadata": {
      "needs_background": "light"
     },
     "output_type": "display_data"
    }
   ],
   "source": [
    "plt.plot(Close_lst, label='Giá đóng phiên')\n",
    "plt.legend()\n",
    "plt.show()"
   ]
  },
  {
   "cell_type": "code",
   "execution_count": 23,
   "metadata": {},
   "outputs": [],
   "source": [
    "def strategy_01_current_price(threshold = 0.01):\n",
    "    fee_assume = Decimal(threshold)\n",
    "    global PRICE, A_FUND_AMOUNT, B_FUND_AMOUNT, Close_lst\n",
    "    global A_FUND_AMOUNT_LIST, B_FUND_AMOUNT_LIST, PRICE_LIST\n",
    "    A_FUND_AMOUNT = Decimal('1.0')\n",
    "    B_FUND_AMOUNT = Decimal('0.0')\n",
    "    A_FUND_AMOUNT_LIST = []\n",
    "    B_FUND_AMOUNT_LIST = []\n",
    "    PRICE_LIST = []\n",
    "    PRICE = Decimal(str(Close_lst[0]))\n",
    "    PREV_SIDE = 'buy'\n",
    "    for NEW_PRICE in Close_lst[1:]:\n",
    "        NEW_PRICE = Decimal(str(NEW_PRICE))\n",
    "        if NEW_PRICE > PRICE / (Decimal('1.0') - fee_assume) and PREV_SIDE == 'buy':\n",
    "            PRICE = NEW_PRICE\n",
    "            sell()\n",
    "\n",
    "            PREV_SIDE = 'sell'\n",
    "            PRICE_LIST.append(PRICE)\n",
    "            A_FUND_AMOUNT_LIST.append(A_FUND_AMOUNT)\n",
    "            B_FUND_AMOUNT_LIST.append(B_FUND_AMOUNT)\n",
    "        elif NEW_PRICE < PRICE * (Decimal('1.0') - fee_assume) and PREV_SIDE == 'sell':\n",
    "            PRICE = NEW_PRICE\n",
    "            buy()\n",
    "\n",
    "            PREV_SIDE = 'buy'\n",
    "            PRICE_LIST.append(PRICE)\n",
    "            A_FUND_AMOUNT_LIST.append(A_FUND_AMOUNT)\n",
    "            B_FUND_AMOUNT_LIST.append(B_FUND_AMOUNT)\n",
    "\n",
    "\n",
    "    print(\"Number of trade: \", len(A_FUND_AMOUNT_LIST))\n",
    "\n",
    "    print(A_FUND_AMOUNT, \"  BTC\")\n",
    "    print(B_FUND_AMOUNT, \"  USDT\")\n",
    "\n",
    "    print(\"Previous amount USDT is \", Decimal('1.0') *\n",
    "          Decimal(Close_lst[0]), \"  USDT\")\n",
    "    print(\"Current amount USDT is  \", A_FUND_AMOUNT *\n",
    "          Decimal(Close_lst[-1]) + B_FUND_AMOUNT, \"  USDT\")"
   ]
  },
  {
   "cell_type": "code",
   "execution_count": 24,
   "metadata": {},
   "outputs": [
    {
     "name": "stdout",
     "output_type": "stream",
     "text": [
      "Number of trade:  65\n",
      "0.007008290277079766598233774   BTC\n",
      "4084.353621000000000000000000   USDT\n",
      "Previous amount USDT is  4221.039999999999963620211929   USDT\n",
      "Current amount USDT is   4151.545393782793945278286291   USDT\n"
     ]
    }
   ],
   "source": [
    "strategy_01_current_price(threshold = 0.01)"
   ]
  },
  {
   "cell_type": "code",
   "execution_count": 25,
   "metadata": {},
   "outputs": [
    {
     "name": "stdout",
     "output_type": "stream",
     "text": [
      "Number of trade:  23\n",
      "0.006650608881774317967341707   BTC\n",
      "4898.626988000000000000000000   USDT\n",
      "Previous amount USDT is  4221.039999999999963620211929   USDT\n",
      "Current amount USDT is   4962.389501135744815927290246   USDT\n"
     ]
    }
   ],
   "source": [
    "strategy_01_current_price(threshold = 0.02)"
   ]
  },
  {
   "cell_type": "code",
   "execution_count": 26,
   "metadata": {},
   "outputs": [
    {
     "name": "stdout",
     "output_type": "stream",
     "text": [
      "Number of trade:  7\n",
      "0.008043743671646966335529891   BTC\n",
      "6056.484192000000000000000000   USDT\n",
      "Previous amount USDT is  4221.039999999999963620211929   USDT\n",
      "Current amount USDT is   6133.603343139605135065568343   USDT\n"
     ]
    }
   ],
   "source": [
    "strategy_01_current_price(threshold = 0.1)"
   ]
  },
  {
   "cell_type": "code",
   "execution_count": 28,
   "metadata": {},
   "outputs": [
    {
     "name": "stdout",
     "output_type": "stream",
     "text": [
      "Number of trade:  3\n",
      "0.005307663560715531416612686   BTC\n",
      "16493.23773900000000000000000   USDT\n",
      "Previous amount USDT is  4221.039999999999963620211929   USDT\n",
      "Current amount USDT is   16544.12480415845333251518147   USDT\n"
     ]
    }
   ],
   "source": [
    "strategy_01_current_price(threshold = 0.5)"
   ]
  },
  {
   "cell_type": "code",
   "execution_count": 30,
   "metadata": {},
   "outputs": [
    {
     "name": "stdout",
     "output_type": "stream",
     "text": [
      "Number of trade:  2\n",
      "3.282454306487302869586596888   BTC\n",
      "0.000000   USDT\n",
      "Previous amount USDT is  4221.039999999999963620211929   USDT\n",
      "Current amount USDT is   31470.43218981781949360555366   USDT\n"
     ]
    }
   ],
   "source": [
    "strategy_01_current_price(threshold = .7)"
   ]
  },
  {
   "cell_type": "code",
   "execution_count": 31,
   "metadata": {},
   "outputs": [],
   "source": [
    "# when first price is high [2500:]"
   ]
  },
  {
   "cell_type": "code",
   "execution_count": 32,
   "metadata": {},
   "outputs": [],
   "source": [
    "Close_lst = df.Close.values\n",
    "Close_lst = Close_lst[2500:]"
   ]
  },
  {
   "cell_type": "code",
   "execution_count": 39,
   "metadata": {},
   "outputs": [
    {
     "name": "stdout",
     "output_type": "stream",
     "text": [
      "Number of trade:  64\n",
      "1.244186954577125066868431474   BTC\n",
      "0.00008400000000000000000   USDT\n",
      "Previous amount USDT is  14975.03000000000065483618528   USDT\n",
      "Current amount USDT is   11928.60518539954845011044160   USDT\n"
     ]
    }
   ],
   "source": [
    "strategy_01_current_price(threshold = 0.01)"
   ]
  },
  {
   "cell_type": "code",
   "execution_count": 43,
   "metadata": {},
   "outputs": [
    {
     "name": "stdout",
     "output_type": "stream",
     "text": [
      "Number of trade:  42\n",
      "1.538998545342168717607107698   BTC\n",
      "0.00007700000000000000000   USDT\n",
      "Previous amount USDT is  14975.03000000000065483618528   USDT\n",
      "Current amount USDT is   14755.10246051168130720468026   USDT\n"
     ]
    }
   ],
   "source": [
    "strategy_01_current_price(threshold = 0.02)"
   ]
  },
  {
   "cell_type": "code",
   "execution_count": 48,
   "metadata": {},
   "outputs": [
    {
     "name": "stdout",
     "output_type": "stream",
     "text": [
      "Number of trade:  8\n",
      "1.763996959827066978191020295   BTC\n",
      "0.00006600000000000000000   USDT\n",
      "Previous amount USDT is  14975.03000000000065483618528   USDT\n",
      "Current amount USDT is   16912.26799843320868626802134   USDT\n"
     ]
    }
   ],
   "source": [
    "strategy_01_current_price(threshold = 0.12)"
   ]
  },
  {
   "cell_type": "markdown",
   "metadata": {},
   "source": [
    "# Check state of volume"
   ]
  },
  {
   "cell_type": "code",
   "execution_count": 17,
   "metadata": {},
   "outputs": [
    {
     "name": "stderr",
     "output_type": "stream",
     "text": [
      "No handles with labels found to put in legend.\n"
     ]
    },
    {
     "data": {
      "image/png": "[encoded data removed]",
      "text/plain": [
       "<Figure size 432x288 with 3 Axes>"
      ]
     },
     "metadata": {
      "needs_background": "light"
     },
     "output_type": "display_data"
    }
   ],
   "source": [
    "fig, axs = plt.subplots(3)\n",
    "fig.suptitle('Ngưỡng phí 1% và phí thực 0.1%')\n",
    "# axs[0].plot( A_FUND_AMOUNT_LIST, label='A Amount')\n",
    "axs[0].plot(A_FUND_AMOUNT_LIST)\n",
    "axs[0].set_ylabel('Lượng BTC')\n",
    "axs[1].plot( B_FUND_AMOUNT_LIST)\n",
    "axs[1].set_ylabel('Lượng USDT')\n",
    "axs[2].plot( PRICE_LIST)\n",
    "axs[2].set_ylabel('Giá BTC/USDT')\n",
    "\n",
    "plt.legend()\n",
    "plt.show()"
   ]
  },
  {
   "cell_type": "code",
   "execution_count": 19,
   "metadata": {},
   "outputs": [
    {
     "data": {
      "text/plain": [
       "[Decimal('1.202867830571841295898537515'),\n",
       " Decimal('0.002867830571841295898537515'),\n",
       " Decimal('1.368043743671646966335529891'),\n",
       " Decimal('0.008043743671646966335529891')]"
      ]
     },
     "execution_count": 19,
     "metadata": {},
     "output_type": "execute_result"
    }
   ],
   "source": [
    "A_FUND_AMOUNT_LIST[-4:]"
   ]
  },
  {
   "cell_type": "code",
   "execution_count": 20,
   "metadata": {},
   "outputs": [
    {
     "data": {
      "text/plain": [
       "[Decimal('0E-24'),\n",
       " Decimal('5534.892000000000000000000000'),\n",
       " Decimal('0E-24'),\n",
       " Decimal('6056.484192000000000000000000')]"
      ]
     },
     "execution_count": 20,
     "metadata": {},
     "output_type": "execute_result"
    }
   ],
   "source": [
    "B_FUND_AMOUNT_LIST[-4:]"
   ]
  },
  {
   "cell_type": "markdown",
   "metadata": {},
   "source": [
    "# Modify threshold and compare"
   ]
  }
 ],
 "metadata": {
  "kernelspec": {
   "display_name": "Python 3",
   "language": "python",
   "name": "python3"
  },
  "language_info": {
   "codemirror_mode": {
    "name": "ipython",
    "version": 3
   },
   "file_extension": ".py",
   "mimetype": "text/x-python",
   "name": "python",
   "nbconvert_exporter": "python",
   "pygments_lexer": "ipython3",
   "version": "3.6.8"
  }
 },
 "nbformat": 4,
 "nbformat_minor": 2
}
