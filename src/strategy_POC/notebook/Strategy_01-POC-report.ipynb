{
 "cells": [
  {
   "cell_type": "code",
   "execution_count": 1,
   "metadata": {},
   "outputs": [],
   "source": [
    "import matplotlib.pyplot as plt\n",
    "import numpy as np\n",
    "from decimal import Decimal"
   ]
  },
  {
   "cell_type": "code",
   "execution_count": 2,
   "metadata": {},
   "outputs": [],
   "source": [
    "# BNB fund amount\n",
    "A_FUND_AMOUNT = Decimal('1.0')\n",
    "# BTC fund amount\n",
    "B_FUND_AMOUNT = Decimal('0.0')\n",
    "\n",
    "# fee in real:\n",
    "FREE_REAL = Decimal('.01')\n",
    "\n",
    "A_LIMIT = Decimal('.01')\n",
    "B_LIMIT = Decimal('.0001')\n",
    "\n",
    "A_FUND_AMOUNT_LIST = []\n",
    "B_FUND_AMOUNT_LIST = []\n",
    "PRICE_LIST = []"
   ]
  },
  {
   "cell_type": "code",
   "execution_count": 3,
   "metadata": {},
   "outputs": [],
   "source": [
    "def buy():\n",
    "    global PRICE, A_FUND_AMOUNT, B_FUND_AMOUNT, FREE_REAL\n",
    "    # buy A sell B:\n",
    "#     print(\"buy with price {}\".format(PRICE))\n",
    "    sell_amount_B = B_FUND_AMOUNT - (B_FUND_AMOUNT % B_LIMIT)\n",
    "    \n",
    "    cost = (sell_amount_B * FREE_REAL) / PRICE\n",
    "\n",
    "    B_FUND_AMOUNT -= sell_amount_B\n",
    "    A_FUND_AMOUNT += (sell_amount_B / PRICE - cost)"
   ]
  },
  {
   "cell_type": "code",
   "execution_count": 4,
   "metadata": {},
   "outputs": [],
   "source": [
    "def sell():\n",
    "    global PRICE, A_FUND_AMOUNT, B_FUND_AMOUNT, FREE_REAL\n",
    "    # buy B sell A:\n",
    "#     print(\"sell with price {}\".format(PRICE))\n",
    "    sell_amount_A = A_FUND_AMOUNT - (A_FUND_AMOUNT % A_LIMIT)\n",
    "\n",
    "    cost = sell_amount_A * FREE_REAL * PRICE\n",
    "\n",
    "    A_FUND_AMOUNT -= sell_amount_A\n",
    "    B_FUND_AMOUNT += (sell_amount_A * PRICE - cost)"
   ]
  },
  {
   "cell_type": "markdown",
   "metadata": {},
   "source": [
    "# Reduce threshold fee into .1%"
   ]
  },
  {
   "cell_type": "code",
   "execution_count": 5,
   "metadata": {},
   "outputs": [],
   "source": [
    "test_file = '/home/nam/data/ccxt/extra/BTC_USDT_binance_1h.csv'"
   ]
  },
  {
   "cell_type": "code",
   "execution_count": 6,
   "metadata": {},
   "outputs": [],
   "source": [
    "import pandas as pd\n",
    "df = pd.read_csv(test_file)\n",
    "Close_lst = df.Close.values"
   ]
  },
  {
   "cell_type": "code",
   "execution_count": 7,
   "metadata": {},
   "outputs": [
    {
     "data": {
      "image/png": "[encoded data removed]",
      "text/plain": [
       "<Figure size 432x288 with 1 Axes>"
      ]
     },
     "metadata": {
      "needs_background": "light"
     },
     "output_type": "display_data"
    }
   ],
   "source": [
    "plt.plot(Close_lst, label='Giá đóng phiên')\n",
    "plt.legend()\n",
    "plt.show()"
   ]
  },
  {
   "cell_type": "code",
   "execution_count": 8,
   "metadata": {},
   "outputs": [],
   "source": [
    "def strategy_01_current_price(threshold = 0.01):\n",
    "    fee_assume = Decimal(threshold)\n",
    "    global PRICE, A_FUND_AMOUNT, B_FUND_AMOUNT, Close_lst\n",
    "    global A_FUND_AMOUNT_LIST, B_FUND_AMOUNT_LIST, PRICE_LIST\n",
    "    A_FUND_AMOUNT = Decimal('1.0')\n",
    "    B_FUND_AMOUNT = Decimal('0.0')\n",
    "    A_FUND_AMOUNT_LIST = []\n",
    "    B_FUND_AMOUNT_LIST = []\n",
    "    PRICE_LIST = []\n",
    "    PRICE = Decimal(str(Close_lst[0]))\n",
    "    PREV_SIDE = 'buy'\n",
    "    for NEW_PRICE in Close_lst[1:]:\n",
    "        NEW_PRICE = Decimal(str(NEW_PRICE))\n",
    "        if NEW_PRICE > PRICE / (Decimal('1.0') - fee_assume) and PREV_SIDE == 'buy':\n",
    "            PRICE = NEW_PRICE\n",
    "            sell()\n",
    "\n",
    "            PREV_SIDE = 'sell'\n",
    "            PRICE_LIST.append(PRICE)\n",
    "            A_FUND_AMOUNT_LIST.append(A_FUND_AMOUNT)\n",
    "            B_FUND_AMOUNT_LIST.append(B_FUND_AMOUNT)\n",
    "        elif NEW_PRICE < PRICE * (Decimal('1.0') - fee_assume) and PREV_SIDE == 'sell':\n",
    "            PRICE = NEW_PRICE\n",
    "            buy()\n",
    "\n",
    "            PREV_SIDE = 'buy'\n",
    "            PRICE_LIST.append(PRICE)\n",
    "            A_FUND_AMOUNT_LIST.append(A_FUND_AMOUNT)\n",
    "            B_FUND_AMOUNT_LIST.append(B_FUND_AMOUNT)\n",
    "\n",
    "\n",
    "    print(\"Number of trade: \", len(A_FUND_AMOUNT_LIST))\n",
    "\n",
    "    print(A_FUND_AMOUNT, \"  BTC\")\n",
    "    print(B_FUND_AMOUNT, \"  USDT\")\n",
    "\n",
    "    print(\"Previous amount USDT is \", Decimal('1.0') *\n",
    "          Decimal(Close_lst[0]), \"  USDT\")\n",
    "    print(\"Current amount USDT is  \", A_FUND_AMOUNT *\n",
    "          Decimal(Close_lst[-1]) + B_FUND_AMOUNT, \"  USDT\")"
   ]
  },
  {
   "cell_type": "code",
   "execution_count": 9,
   "metadata": {},
   "outputs": [
    {
     "name": "stdout",
     "output_type": "stream",
     "text": [
      "Number of trade:  129\n",
      "0.0070032224542097658815695239   BTC\n",
      "2126.072554000000000000000000   USDT\n",
      "Previous amount USDT is  4221.039999999999963620211929   USDT\n",
      "Current amount USDT is   2193.215739183062499510607887   USDT\n"
     ]
    }
   ],
   "source": [
    "Close_lst = df.Close.values\n",
    "\n",
    "strategy_01_current_price(threshold = 0.001)"
   ]
  },
  {
   "cell_type": "code",
   "execution_count": 24,
   "metadata": {},
   "outputs": [
    {
     "name": "stdout",
     "output_type": "stream",
     "text": [
      "Number of trade:  129\n",
      "0.0092728947528001682321128224   BTC\n",
      "2201.936439000000000000000000   USDT\n",
      "Previous amount USDT is  4221.039999999999963620211929   USDT\n",
      "Current amount USDT is   2290.840039255629022848107695   USDT\n"
     ]
    }
   ],
   "source": [
    "Close_lst = df.Close.values\n",
    "\n",
    "strategy_01_current_price(threshold = 0.002)"
   ]
  },
  {
   "cell_type": "code",
   "execution_count": 25,
   "metadata": {},
   "outputs": [
    {
     "name": "stdout",
     "output_type": "stream",
     "text": [
      "Number of trade:  17\n",
      "0.009027525205779181192701448   BTC\n",
      "6546.346901000000000000000000   USDT\n",
      "Previous amount USDT is  4221.039999999999963620211929   USDT\n",
      "Current amount USDT is   6632.898028084651720398039183   USDT\n"
     ]
    }
   ],
   "source": [
    "strategy_01_current_price(threshold = 0.05)"
   ]
  },
  {
   "cell_type": "code",
   "execution_count": 36,
   "metadata": {},
   "outputs": [
    {
     "name": "stdout",
     "output_type": "stream",
     "text": [
      "Number of trade:  129\n",
      "0.0092728947528001682321128224   BTC\n",
      "2201.936439000000000000000000   USDT\n",
      "Previous amount USDT is  4221.039999999999963620211929   USDT\n",
      "Current amount USDT is   2290.840039255629022848107695   USDT\n"
     ]
    }
   ],
   "source": [
    "Close_lst = df.Close.values\n",
    "\n",
    "strategy_01_current_price(threshold = 0.2/100)"
   ]
  },
  {
   "cell_type": "code",
   "execution_count": 14,
   "metadata": {},
   "outputs": [
    {
     "name": "stdout",
     "output_type": "stream",
     "text": [
      "Number of trade:  3\n",
      "0.005307663560715531416612686   BTC\n",
      "16493.23773900000000000000000   USDT\n",
      "Previous amount USDT is  4221.039999999999963620211929   USDT\n",
      "Current amount USDT is   16544.12480415845333251518147   USDT\n"
     ]
    }
   ],
   "source": [
    "strategy_01_current_price(threshold = 0.5)"
   ]
  },
  {
   "cell_type": "code",
   "execution_count": 31,
   "metadata": {},
   "outputs": [
    {
     "name": "stdout",
     "output_type": "stream",
     "text": [
      "Number of trade:  121\n",
      "0.0061893564027957809815621792   BTC\n",
      "2274.207729000000000000000000   USDT\n",
      "Previous amount USDT is  4221.039999999999963620211929   USDT\n",
      "Current amount USDT is   2333.547997831112462234283410   USDT\n"
     ]
    }
   ],
   "source": [
    "strategy_01_current_price(threshold = .12/100)"
   ]
  },
  {
   "cell_type": "code",
   "execution_count": 16,
   "metadata": {},
   "outputs": [],
   "source": [
    "# when first price is high [2500:]"
   ]
  },
  {
   "cell_type": "code",
   "execution_count": 32,
   "metadata": {},
   "outputs": [],
   "source": [
    "Close_lst = df.Close.values\n",
    "Close_lst = Close_lst[2500:]"
   ]
  },
  {
   "cell_type": "code",
   "execution_count": 29,
   "metadata": {},
   "outputs": [
    {
     "data": {
      "text/plain": [
       "1512928800000.0"
      ]
     },
     "execution_count": 29,
     "metadata": {},
     "output_type": "execute_result"
    }
   ],
   "source": [
    "df.iloc[2500].Timestamp"
   ]
  },
  {
   "cell_type": "code",
   "execution_count": 43,
   "metadata": {},
   "outputs": [
    {
     "name": "stdout",
     "output_type": "stream",
     "text": [
      "Number of trade:  6\n",
      "1.403081315728755372949636041   BTC\n",
      "0.00005000000000000000000   USDT\n",
      "Previous amount USDT is  14975.03000000000065483618528   USDT\n",
      "Current amount USDT is   13452.00007210996935670503063   USDT\n"
     ]
    }
   ],
   "source": [
    "Close_lst = df.Close.values\n",
    "Close_lst = Close_lst[2500:]\n",
    "strategy_01_current_price(threshold = 10.0/100)"
   ]
  },
  {
   "cell_type": "code",
   "execution_count": 33,
   "metadata": {},
   "outputs": [
    {
     "name": "stdout",
     "output_type": "stream",
     "text": [
      "Number of trade:  6\n",
      "1.403081315728755372949636041   BTC\n",
      "0.00005000000000000000000   USDT\n",
      "Previous amount USDT is  14975.03000000000065483618528   USDT\n",
      "Current amount USDT is   13452.00007210996935670503063   USDT\n"
     ]
    }
   ],
   "source": [
    "strategy_01_current_price(threshold = 0.1)"
   ]
  },
  {
   "cell_type": "code",
   "execution_count": 20,
   "metadata": {},
   "outputs": [
    {
     "name": "stdout",
     "output_type": "stream",
     "text": [
      "Number of trade:  8\n",
      "1.763996959827066978191020295   BTC\n",
      "0.00006600000000000000000   USDT\n",
      "Previous amount USDT is  14975.03000000000065483618528   USDT\n",
      "Current amount USDT is   16912.26799843320868626802134   USDT\n"
     ]
    }
   ],
   "source": [
    "strategy_01_current_price(threshold = 0.12)"
   ]
  },
  {
   "cell_type": "markdown",
   "metadata": {},
   "source": [
    "# Check state of volume"
   ]
  },
  {
   "cell_type": "code",
   "execution_count": 21,
   "metadata": {},
   "outputs": [
    {
     "name": "stderr",
     "output_type": "stream",
     "text": [
      "No handles with labels found to put in legend.\n"
     ]
    },
    {
     "data": {
      "image/png": "[encoded data removed]",
      "text/plain": [
       "<Figure size 432x288 with 3 Axes>"
      ]
     },
     "metadata": {
      "needs_background": "light"
     },
     "output_type": "display_data"
    }
   ],
   "source": [
    "fig, axs = plt.subplots(3)\n",
    "fig.suptitle('Ngưỡng phí 1% và phí thực 0.1%')\n",
    "# axs[0].plot( A_FUND_AMOUNT_LIST, label='A Amount')\n",
    "axs[0].plot(A_FUND_AMOUNT_LIST)\n",
    "axs[0].set_ylabel('Lượng BTC')\n",
    "axs[1].plot( B_FUND_AMOUNT_LIST)\n",
    "axs[1].set_ylabel('Lượng USDT')\n",
    "axs[2].plot( PRICE_LIST)\n",
    "axs[2].set_ylabel('Giá BTC/USDT')\n",
    "\n",
    "plt.legend()\n",
    "plt.show()"
   ]
  },
  {
   "cell_type": "code",
   "execution_count": 22,
   "metadata": {},
   "outputs": [
    {
     "data": {
      "text/plain": [
       "[Decimal('0.001507316409672387685544847'),\n",
       " Decimal('1.570641637070608862616882621'),\n",
       " Decimal('0.000641637070608862616882621'),\n",
       " Decimal('1.763996959827066978191020295')]"
      ]
     },
     "execution_count": 22,
     "metadata": {},
     "output_type": "execute_result"
    }
   ],
   "source": [
    "A_FUND_AMOUNT_LIST[-4:]"
   ]
  },
  {
   "cell_type": "code",
   "execution_count": 23,
   "metadata": {},
   "outputs": [
    {
     "data": {
      "text/plain": [
       "[Decimal('21381.35716600000000000000000'),\n",
       " Decimal('0.00006600000000000000000'),\n",
       " Decimal('23856.95076600000000000000000'),\n",
       " Decimal('0.00006600000000000000000')]"
      ]
     },
     "execution_count": 23,
     "metadata": {},
     "output_type": "execute_result"
    }
   ],
   "source": [
    "B_FUND_AMOUNT_LIST[-4:]"
   ]
  },
  {
   "cell_type": "markdown",
   "metadata": {},
   "source": [
    "# Modify threshold and compare"
   ]
  }
 ],
 "metadata": {
  "kernelspec": {
   "display_name": "Python 3",
   "language": "python",
   "name": "python3"
  },
  "language_info": {
   "codemirror_mode": {
    "name": "ipython",
    "version": 3
   },
   "file_extension": ".py",
   "mimetype": "text/x-python",
   "name": "python",
   "nbconvert_exporter": "python",
   "pygments_lexer": "ipython3",
   "version": "3.6.8"
  }
 },
 "nbformat": 4,
 "nbformat_minor": 2
}
