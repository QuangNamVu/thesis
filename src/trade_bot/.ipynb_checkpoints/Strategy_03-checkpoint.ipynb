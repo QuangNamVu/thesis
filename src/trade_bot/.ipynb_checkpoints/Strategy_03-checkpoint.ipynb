{
 "cells": [
  {
   "cell_type": "code",
   "execution_count": 18,
   "metadata": {},
   "outputs": [],
   "source": [
    "# Python program for Bellman-Ford's single source  \n",
    "# shortest path algorithm. \n",
    "  \n",
    "from collections import defaultdict \n",
    "  \n",
    "# Class to represent a graph \n",
    "class Graph: \n",
    "  \n",
    "    def __init__(self, vertices): \n",
    "        self.V = vertices # No. of vertices \n",
    "        self.graph = [] # default dictionary to store graph \n",
    "        self.dist = []\n",
    "   \n",
    "    def addEdge(self, u, v, w, is_traversed = False): \n",
    "        self.graph.append([u, v, w, is_traversed]) \n",
    "          \n",
    "    # utility function used to print the solution \n",
    "    def printArr(self, dist): \n",
    "        print(\"Vertex Distance from Source\") \n",
    "        for i in range(self.V): \n",
    "            print(\"% d \\t\\t % d\" % (i, dist[i])) \n",
    "      \n",
    "    # The main function that finds shortest distances from src to \n",
    "    # all other vertices using Bellman-Ford algorithm.  The function \n",
    "    # also detects negative weight cycle \n",
    "    def BellmanFord(self, src):\n",
    "  \n",
    "        # Step 1: Initialize distances from src to all other vertices \n",
    "        # as INFINITE \n",
    "        dist = [float(\"Inf\")] * self.V \n",
    "        dist[src] = 0 \n",
    "  \n",
    "  \n",
    "        # Step 2: Relax all edges |V| - 1 times. A simple shortest  \n",
    "        # path from src to any other vertex can have at-most |V| - 1  \n",
    "        # edges \n",
    "        for i in range(self.V - 1): \n",
    "            # Update dist value and parent index of the adjacent vertices of \n",
    "            # the picked vertex. Consider only those vertices which are still in \n",
    "            # queue \n",
    "            for u, v, w in self.graph: \n",
    "                if dist[u] != float(\"Inf\") and dist[u] + w < dist[v]: \n",
    "                        dist[v] = dist[u] + w \n",
    "  \n",
    "        # Step 3: check for negative-weight cycles.  The above step  \n",
    "        # guarantees shortest distances if graph doesn't contain  \n",
    "        # negative weight cycle.  If we get a shorter path, then there \n",
    "        # is a cycle. \n",
    "        # print all distance \n",
    "        self.printArr(dist) \n",
    "        \n",
    "        self.dist = dist\n",
    "        for u, v, w in self.graph: \n",
    "                if dist[u] != float(\"Inf\") and dist[u] + w < dist[v]: \n",
    "                        print(\"Graph contains negative weight cycle\")\n",
    "                        return\n",
    "                          \n"
   ]
  },
  {
   "cell_type": "code",
   "execution_count": 19,
   "metadata": {},
   "outputs": [],
   "source": [
    "BTC = 0\n",
    "ETH = 1\n",
    "USDT = 2"
   ]
  },
  {
   "cell_type": "code",
   "execution_count": 20,
   "metadata": {},
   "outputs": [],
   "source": [
    "g = Graph(3) \n",
    "g.addEdge(0, 1, -1) \n",
    "g.addEdge(1, 2, -1) \n",
    "g.addEdge(2, 0, -4)"
   ]
  },
  {
   "cell_type": "code",
   "execution_count": 21,
   "metadata": {},
   "outputs": [
    {
     "data": {
      "text/plain": [
       "[[0, 1, -1], [1, 2, -1], [2, 0, -4]]"
      ]
     },
     "execution_count": 21,
     "metadata": {},
     "output_type": "execute_result"
    }
   ],
   "source": [
    "g.graph"
   ]
  },
  {
   "cell_type": "code",
   "execution_count": 30,
   "metadata": {},
   "outputs": [
    {
     "name": "stdout",
     "output_type": "stream",
     "text": [
      "Vertex   Distance from Source\n",
      " 0 \t\t -12\n",
      " 1 \t\t -7\n",
      " 2 \t\t -8\n",
      "Graph contains negative weight cycle\n"
     ]
    }
   ],
   "source": [
    "g.BellmanFord(0)"
   ]
  }
 ],
 "metadata": {
  "kernelspec": {
   "display_name": "Python 3",
   "language": "python",
   "name": "python3"
  },
  "language_info": {
   "codemirror_mode": {
    "name": "ipython",
    "version": 3
   },
   "file_extension": ".py",
   "mimetype": "text/x-python",
   "name": "python",
   "nbconvert_exporter": "python",
   "pygments_lexer": "ipython3",
   "version": "3.6.8"
  }
 },
 "nbformat": 4,
 "nbformat_minor": 2
}
