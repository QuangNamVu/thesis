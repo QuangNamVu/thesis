{
 "cells": [
  {
   "cell_type": "code",
   "execution_count": 1,
   "metadata": {},
   "outputs": [],
   "source": [
    "import ccxt\n",
    "import time\n",
    "import os\n",
    "import datetime\n",
    "import pandas as pd\n",
    "\n",
    "msec = 1000\n",
    "minute = 60 * msec\n",
    "hour = 60 * minute\n",
    "\n",
    "symbol = 'ETH/BTC'\n",
    "symbol_ = 'ETH_BTC'\n",
    "market = 'binance'\n",
    "timewindow = '1h'\n",
    "\n",
    "if timewindow == '1h':\n",
    "    offset = hour\n",
    "    delay = offset / 1000\n",
    "elif timewindow == '1m':\n",
    "    offset = minute\n",
    "    delay = offset / 1000"
   ]
  },
  {
   "cell_type": "code",
   "execution_count": 2,
   "metadata": {},
   "outputs": [],
   "source": [
    "def get_file_contents(filename):\n",
    "    try:\n",
    "        with open(filename, 'r') as f:\n",
    "            return f.read().strip()\n",
    "    except FileNotFoundError:\n",
    "        print(\"'%s' file not found\" % filename)\n",
    "\n",
    "\n",
    "binance = ccxt.binance()\n",
    "home_path = os.path.expanduser(\"~\")\n",
    "binance.apiKey = get_file_contents(home_path + '/api_key/binance/pub')\n",
    "binance.secret = get_file_contents(home_path + '/api_key/binance/private')"
   ]
  },
  {
   "cell_type": "code",
   "execution_count": 3,
   "metadata": {},
   "outputs": [],
   "source": [
    "binance = ccxt.binance({\n",
    "    'apiKey': binance.apiKey,\n",
    "    'secret': binance.secret,\n",
    "})\n",
    "exchange = binance"
   ]
  },
  {
   "cell_type": "code",
   "execution_count": 4,
   "metadata": {},
   "outputs": [],
   "source": [
    "from_datetime = '2018-01-01 00:00:00'\n",
    "from_timestamp = exchange.parse8601(from_datetime)\n",
    "\n",
    "to_datetime = '2019-09-01 00:00:00'\n",
    "to_timestamp = exchange.parse8601(to_datetime)"
   ]
  },
  {
   "cell_type": "code",
   "execution_count": 5,
   "metadata": {},
   "outputs": [
    {
     "data": {
      "text/plain": [
       "875520.0"
      ]
     },
     "execution_count": 5,
     "metadata": {},
     "output_type": "execute_result"
    }
   ],
   "source": [
    "(to_timestamp - from_timestamp)/(1000 * 60)"
   ]
  },
  {
   "cell_type": "code",
   "execution_count": 6,
   "metadata": {},
   "outputs": [
    {
     "data": {
      "text/plain": [
       "875500"
      ]
     },
     "execution_count": 6,
     "metadata": {},
     "output_type": "execute_result"
    }
   ],
   "source": [
    "870500 + 5000"
   ]
  },
  {
   "cell_type": "code",
   "execution_count": 7,
   "metadata": {},
   "outputs": [
    {
     "data": {
      "text/plain": [
       "1514764800000"
      ]
     },
     "execution_count": 7,
     "metadata": {},
     "output_type": "execute_result"
    }
   ],
   "source": [
    "from_timestamp"
   ]
  },
  {
   "cell_type": "code",
   "execution_count": 8,
   "metadata": {},
   "outputs": [
    {
     "name": "stdout",
     "output_type": "stream",
     "text": [
      "1516568400000 1567296000000\n",
      "False\n",
      "Last candle epoch 1516564800000 2018-01-21T20:00:00.000Z\n",
      "1518483600000 1567296000000\n",
      "False\n",
      "Last candle epoch 1518480000000 2018-02-13T00:00:00.000Z\n",
      "1520283600000 1567296000000\n",
      "False\n",
      "Last candle epoch 1520280000000 2018-03-05T20:00:00.000Z\n",
      "1522083600000 1567296000000\n",
      "False\n",
      "Last candle epoch 1522080000000 2018-03-26T16:00:00.000Z\n",
      "1523883600000 1567296000000\n",
      "False\n",
      "Last candle epoch 1523880000000 2018-04-16T12:00:00.000Z\n",
      "1525683600000 1567296000000\n",
      "False\n",
      "Last candle epoch 1525680000000 2018-05-07T08:00:00.000Z\n",
      "1527483600000 1567296000000\n",
      "False\n",
      "Last candle epoch 1527480000000 2018-05-28T04:00:00.000Z\n",
      "1529283600000 1567296000000\n",
      "False\n",
      "Last candle epoch 1529280000000 2018-06-18T00:00:00.000Z\n",
      "1531148400000 1567296000000\n",
      "False\n",
      "Last candle epoch 1531144800000 2018-07-09T14:00:00.000Z\n",
      "1532948400000 1567296000000\n",
      "False\n",
      "Last candle epoch 1532944800000 2018-07-30T10:00:00.000Z\n",
      "1534748400000 1567296000000\n",
      "False\n",
      "Last candle epoch 1534744800000 2018-08-20T06:00:00.000Z\n",
      "1536548400000 1567296000000\n",
      "False\n",
      "Last candle epoch 1536544800000 2018-09-10T02:00:00.000Z\n",
      "1538348400000 1567296000000\n",
      "False\n",
      "Last candle epoch 1538344800000 2018-09-30T22:00:00.000Z\n",
      "1540159200000 1567296000000\n",
      "False\n",
      "Last candle epoch 1540155600000 2018-10-21T21:00:00.000Z\n",
      "1541959200000 1567296000000\n",
      "False\n",
      "Last candle epoch 1541955600000 2018-11-11T17:00:00.000Z\n",
      "1543784400000 1567296000000\n",
      "False\n",
      "Last candle epoch 1543780800000 2018-12-02T20:00:00.000Z\n",
      "1545584400000 1567296000000\n",
      "False\n",
      "Last candle epoch 1545580800000 2018-12-23T16:00:00.000Z\n",
      "1547384400000 1567296000000\n",
      "False\n",
      "Last candle epoch 1547380800000 2019-01-13T12:00:00.000Z\n",
      "1549184400000 1567296000000\n",
      "False\n",
      "Last candle epoch 1549180800000 2019-02-03T08:00:00.000Z\n",
      "1550984400000 1567296000000\n",
      "False\n",
      "Last candle epoch 1550980800000 2019-02-24T04:00:00.000Z\n",
      "1552806000000 1567296000000\n",
      "False\n",
      "Last candle epoch 1552802400000 2019-03-17T06:00:00.000Z\n",
      "1554606000000 1567296000000\n",
      "False\n",
      "Last candle epoch 1554602400000 2019-04-07T02:00:00.000Z\n",
      "1556406000000 1567296000000\n",
      "False\n",
      "Last candle epoch 1556402400000 2019-04-27T22:00:00.000Z\n",
      "1558242000000 1567296000000\n",
      "False\n",
      "Last candle epoch 1558238400000 2019-05-19T04:00:00.000Z\n",
      "1560042000000 1567296000000\n",
      "False\n",
      "Last candle epoch 1560038400000 2019-06-09T00:00:00.000Z\n",
      "1561842000000 1567296000000\n",
      "False\n",
      "Last candle epoch 1561838400000 2019-06-29T20:00:00.000Z\n",
      "1563642000000 1567296000000\n",
      "False\n",
      "Last candle epoch 1563638400000 2019-07-20T16:00:00.000Z\n",
      "1565442000000 1567296000000\n",
      "False\n",
      "Last candle epoch 1565438400000 2019-08-10T12:00:00.000Z\n",
      "1567270800000 1567296000000\n",
      "False\n",
      "Last candle epoch 1567267200000 2019-08-31T16:00:00.000Z\n",
      "1569070800000 1567296000000\n",
      "True\n",
      "Last candle epoch 1569067200000 2019-09-21T12:00:00.000Z\n"
     ]
    }
   ],
   "source": [
    "df = pd.DataFrame()\n",
    "header = ['Timestamp', 'Open', 'High', 'Low', 'Close', 'Volume']\n",
    "\n",
    "while from_timestamp < to_timestamp:\n",
    "    try:\n",
    "        ohlcvs = exchange.fetch_ohlcv(symbol, timewindow, from_timestamp)\n",
    "            \n",
    "        df_current = pd.DataFrame(ohlcvs, columns=header)\n",
    "        df_current['market'] = market\n",
    "        df_current['symbol'] = symbol\n",
    "        df_current['timewindow'] = timewindow\n",
    " \n",
    "        df = df.append(df_current, ignore_index=True)\n",
    "\n",
    "#         print(exchange.milliseconds(), 'Fetched', len(ohlcvs), 'candles')\n",
    "        if len(ohlcvs) > 0:\n",
    "            first = ohlcvs[0][0]\n",
    "            last = ohlcvs[-1][0]\n",
    "#             print('First candle epoch', first, exchange.iso8601(first))\n",
    "\n",
    "            from_timestamp = ohlcvs[-1][0] + offset\n",
    "            print(from_timestamp, to_timestamp)\n",
    "            print(from_timestamp > to_timestamp)\n",
    "            # v = ohlcvs[0][0]/ 1000\n",
    "            # !date --date @{v} +\"%Y-%m-%d %H:%M\"\n",
    "            print('Last candle epoch', last, exchange.iso8601(last))\n",
    "        else:\n",
    "            break\n",
    "\n",
    "    except (ccxt.ExchangeError, ccxt.AuthenticationError, ccxt.ExchangeNotAvailable, ccxt.RequestTimeout) as error:\n",
    "        print('Got an error', type(error).__name__,\n",
    "              error.args, ', retrying in', offset, 'seconds...')"
   ]
  },
  {
   "cell_type": "code",
   "execution_count": 9,
   "metadata": {},
   "outputs": [
    {
     "data": {
      "text/plain": [
       "(15000, 9)"
      ]
     },
     "execution_count": 9,
     "metadata": {},
     "output_type": "execute_result"
    }
   ],
   "source": [
    "df.shape"
   ]
  },
  {
   "cell_type": "code",
   "execution_count": 10,
   "metadata": {},
   "outputs": [],
   "source": [
    "df.to_csv('{}/data/ccxt/{}_{}_{}.csv'.format(home_path,symbol_, market, timewindow))"
   ]
  }
 ],
 "metadata": {
  "kernelspec": {
   "display_name": "Python 3",
   "language": "python",
   "name": "python3"
  },
  "language_info": {
   "codemirror_mode": {
    "name": "ipython",
    "version": 3
   },
   "file_extension": ".py",
   "mimetype": "text/x-python",
   "name": "python",
   "nbconvert_exporter": "python",
   "pygments_lexer": "ipython3",
   "version": "3.6.8"
  }
 },
 "nbformat": 4,
 "nbformat_minor": 2
}
