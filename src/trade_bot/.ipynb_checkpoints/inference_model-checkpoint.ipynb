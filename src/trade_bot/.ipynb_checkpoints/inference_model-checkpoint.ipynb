{
 "cells": [
  {
   "cell_type": "code",
   "execution_count": 1,
   "metadata": {},
   "outputs": [],
   "source": [
    "# checkpoint_path = './train_log/train/model-15'\n",
    "# checkpoint_path = '../train_log/train/checkpoint'\n",
    "checkpoint_path = '/home/nam/tmp/01/train_log/train/checkpoint'"
   ]
  },
  {
   "cell_type": "code",
   "execution_count": 2,
   "metadata": {},
   "outputs": [
    {
     "name": "stdout",
     "output_type": "stream",
     "text": [
      "OpenCV is built with OpenMP support. This usually results in poor performance. For details, see https://github.com/tensorpack/benchmarks/blob/master/ImageNet/benchmark-opencv-resize.py\n"
     ]
    }
   ],
   "source": [
    "import VAE"
   ]
  },
  {
   "cell_type": "code",
   "execution_count": 3,
   "metadata": {},
   "outputs": [],
   "source": [
    "from tensorpack.predict.config import PredictConfig\n",
    "from tensorpack.tfutils import SmartInit"
   ]
  },
  {
   "cell_type": "code",
   "execution_count": 4,
   "metadata": {},
   "outputs": [],
   "source": [
    "from VAE.Model import ModelDesc, Trainer  # , RandomZData\n",
    "from VAE import get_default_hparams\n",
    "# hps = get_default_hparams()\n",
    "with open(\"./hps/hps.pickle\", \"rb\") as input_file:\n",
    "    hps = cPickle.load(input_file)\n",
    "M = ModelDesc(hps)"
   ]
  },
  {
   "cell_type": "code",
   "execution_count": 5,
   "metadata": {},
   "outputs": [],
   "source": [
    "pred_config = PredictConfig(\n",
    "        session_init=SmartInit(checkpoint_path),\n",
    "        model=M,\n",
    "        input_names=['x'],\n",
    "        output_names=['predict/y_pred']\n",
    ")"
   ]
  },
  {
   "cell_type": "code",
   "execution_count": 6,
   "metadata": {},
   "outputs": [
    {
     "name": "stdout",
     "output_type": "stream",
     "text": [
      "\u001b[32m[0923 18:35:13 @collection.py:146]\u001b[0m New collections created in tower : tf.GraphKeys.MODEL_VARIABLES of size 2, tf.GraphKeys.METRIC_VARIABLES of size 2\n",
      "\u001b[32m[0923 18:35:13 @collection.py:165]\u001b[0m These collections were modified but restored in : (tf.GraphKeys.SUMMARIES: 0->7)\n",
      "\u001b[32m[0923 18:35:13 @sessinit.py:87]\u001b[0m \u001b[5m\u001b[31mWRN\u001b[0m The following variables are in the checkpoint, but not found in the graph: global_step, optimize/beta1_power, optimize/beta2_power\n",
      "\u001b[32m[0923 18:35:14 @sessinit.py:114]\u001b[0m Restoring checkpoint from /home/nam/tmp/01/train_log/train/model-330830 ...\n",
      "INFO:tensorflow:Restoring parameters from /home/nam/tmp/01/train_log/train/model-330830\n"
     ]
    }
   ],
   "source": [
    "from tensorpack.predict import OfflinePredictor\n",
    "predictor = OfflinePredictor(pred_config)"
   ]
  },
  {
   "cell_type": "code",
   "execution_count": 11,
   "metadata": {},
   "outputs": [],
   "source": [
    "test_file = '/home/nam/data/ccxt/100_days_1m.csv'\n",
    "\n",
    "import pandas as pd\n",
    "import numpy as np\n",
    "df = pd.read_csv(test_file)"
   ]
  },
  {
   "cell_type": "code",
   "execution_count": 12,
   "metadata": {},
   "outputs": [],
   "source": [
    "cols = ['Open', 'High', 'Low', 'Close', 'Volume']\n",
    "np_data = df[cols].values"
   ]
  },
  {
   "cell_type": "code",
   "execution_count": 9,
   "metadata": {},
   "outputs": [],
   "source": [
    "# df_test = np.reshape(df_test, newshape = [hps.M, hps.T, hps.D])"
   ]
  },
  {
   "cell_type": "code",
   "execution_count": 13,
   "metadata": {},
   "outputs": [],
   "source": [
    "i = np_data[-hps.T:]\n",
    "input_np = np.asarray([i]*hps.M)"
   ]
  },
  {
   "cell_type": "code",
   "execution_count": 36,
   "metadata": {},
   "outputs": [
    {
     "name": "stdout",
     "output_type": "stream",
     "text": [
      "Inference Normalize: Min Max\n"
     ]
    }
   ],
   "source": [
    "from VAE.load_data import test_segment\n",
    "hps.scaler_path = '/home/nam/tmp/01/scaler/scaler.npz'\n",
    "hps.normalize_data = 'min_max'\n",
    "input_data = test_segment(df[cols], hps)"
   ]
  },
  {
   "cell_type": "code",
   "execution_count": 37,
   "metadata": {},
   "outputs": [],
   "source": [
    "i = input_data[-hps.M:]"
   ]
  },
  {
   "cell_type": "code",
   "execution_count": 38,
   "metadata": {},
   "outputs": [
    {
     "data": {
      "text/plain": [
       "array([[[-1.        , -0.8687394 ]],\n",
       "\n",
       "       [[-1.        , -0.86875665]],\n",
       "\n",
       "       [[-1.        , -0.8687794 ]],\n",
       "\n",
       "       ...,\n",
       "\n",
       "       [[-1.        , -0.86881286]],\n",
       "\n",
       "       [[-1.        , -0.8688456 ]],\n",
       "\n",
       "       [[-1.        , -0.8688747 ]]], dtype=float32)"
      ]
     },
     "execution_count": 38,
     "metadata": {},
     "output_type": "execute_result"
    }
   ],
   "source": [
    "# tf.TensorSpec((None, self.hps.T, self.hps.D), tf.float32, 'x'),\n",
    "outputs = predictor(i)\n",
    "outputs[0]"
   ]
  },
  {
   "cell_type": "code",
   "execution_count": 39,
   "metadata": {},
   "outputs": [
    {
     "data": {
      "text/plain": [
       "(1024, 1, 2)"
      ]
     },
     "execution_count": 39,
     "metadata": {},
     "output_type": "execute_result"
    }
   ],
   "source": [
    "outputs[0].shape"
   ]
  },
  {
   "cell_type": "code",
   "execution_count": 41,
   "metadata": {},
   "outputs": [],
   "source": [
    "def softmax(x):\n",
    "    \"x shape is [N, Tau, C] when Tau == 1\"\n",
    "    assert np.shape(x)[1] == 1, \"Tau is not 1\"\n",
    "    x = np.squeeze(x, axis=(1,))\n",
    "    e_x = np.exp(x - np.max(x, axis = -1, keepdims = True))\n",
    "    return e_x / e_x.sum(axis = -1, keepdims = True)"
   ]
  },
  {
   "cell_type": "code",
   "execution_count": 43,
   "metadata": {},
   "outputs": [
    {
     "data": {
      "text/plain": [
       "array([[0.4672319 , 0.53276813],\n",
       "       [0.46723616, 0.5327638 ],\n",
       "       [0.46724185, 0.5327582 ],\n",
       "       ...,\n",
       "       [0.46725017, 0.53274983],\n",
       "       [0.46725833, 0.53274167],\n",
       "       [0.4672656 , 0.53273445]], dtype=float32)"
      ]
     },
     "execution_count": 43,
     "metadata": {},
     "output_type": "execute_result"
    }
   ],
   "source": [
    "rs = softmax(outputs[0])\n",
    "rs"
   ]
  },
  {
   "cell_type": "code",
   "execution_count": 46,
   "metadata": {},
   "outputs": [
    {
     "data": {
      "text/plain": [
       "False"
      ]
     },
     "execution_count": 46,
     "metadata": {},
     "output_type": "execute_result"
    }
   ],
   "source": [
    "np.any(rs[:,0] > rs[:,1])"
   ]
  }
 ],
 "metadata": {
  "kernelspec": {
   "display_name": "Python 3",
   "language": "python",
   "name": "python3"
  },
  "language_info": {
   "codemirror_mode": {
    "name": "ipython",
    "version": 3
   },
   "file_extension": ".py",
   "mimetype": "text/x-python",
   "name": "python",
   "nbconvert_exporter": "python",
   "pygments_lexer": "ipython3",
   "version": "3.6.8"
  }
 },
 "nbformat": 4,
 "nbformat_minor": 2
}
